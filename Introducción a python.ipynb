{
 "cells": [
  {
   "cell_type": "markdown",
   "id": "367bf3e1",
   "metadata": {},
   "source": [
    "# <center> $\\text{INTRODUCCIÓN A PYTHON}$ </center>"
   ]
  },
  {
   "cell_type": "markdown",
   "id": "b28de4f4",
   "metadata": {},
   "source": [
    "## Característica"
   ]
  },
  {
   "cell_type": "markdown",
   "id": "d6107a20",
   "metadata": {},
   "source": [
    " - Es un lenguaje interpretado o interprete y de alto nivel."
   ]
  },
  {
   "cell_type": "markdown",
   "id": "fb917e1f",
   "metadata": {},
   "source": [
    "- Soporta 4 paradigmas de programación:\n",
    "    - paradigma por procedimientos o paradigma imperativo \n",
    "\n",
    "\n",
    "    - paradigma declarativo\n",
    "\n",
    "\n",
    "    - paradigma funcional\n",
    "\n",
    "\n",
    "    - paradigma orientado a objetos\n",
    "\n"
   ]
  },
  {
   "cell_type": "markdown",
   "id": "d5984075",
   "metadata": {},
   "source": [
    "### Ejemplos de paradigmas"
   ]
  },
  {
   "cell_type": "markdown",
   "id": "09100741",
   "metadata": {},
   "source": [
    "#### Paradigma declarativo"
   ]
  },
  {
   "cell_type": "code",
   "execution_count": 2,
   "id": "c8cfbd46",
   "metadata": {},
   "outputs": [],
   "source": [
    "import numpy as np"
   ]
  },
  {
   "cell_type": "markdown",
   "id": "464fac0f",
   "metadata": {},
   "source": [
    "#### paradigma por procedimientos o paradigma imperativo"
   ]
  },
  {
   "cell_type": "code",
   "execution_count": 5,
   "id": "23736fa0",
   "metadata": {},
   "outputs": [
    {
     "name": "stdout",
     "output_type": "stream",
     "text": [
      "1\n",
      "2\n",
      "3\n",
      "4\n",
      "5\n"
     ]
    }
   ],
   "source": [
    "lista = [1,2,3,4,5] \n",
    "for i in lista: \n",
    "    print(i)"
   ]
  },
  {
   "cell_type": "markdown",
   "id": "6fcfdde1",
   "metadata": {},
   "source": [
    "#### paradigma funcional"
   ]
  },
  {
   "cell_type": "code",
   "execution_count": 6,
   "id": "a6ca452c",
   "metadata": {},
   "outputs": [],
   "source": [
    "def sumar(x, y):\n",
    "    return x + y"
   ]
  },
  {
   "cell_type": "code",
   "execution_count": 7,
   "id": "01ba0c22",
   "metadata": {},
   "outputs": [
    {
     "data": {
      "text/plain": [
       "3"
      ]
     },
     "execution_count": 7,
     "metadata": {},
     "output_type": "execute_result"
    }
   ],
   "source": [
    "sumar(1, 2)"
   ]
  },
  {
   "cell_type": "code",
   "execution_count": 8,
   "id": "4c242b6f",
   "metadata": {},
   "outputs": [],
   "source": [
    "suma = lambda x, y: x + y"
   ]
  },
  {
   "cell_type": "code",
   "execution_count": 9,
   "id": "f33e2653",
   "metadata": {},
   "outputs": [
    {
     "name": "stdout",
     "output_type": "stream",
     "text": [
      "5\n"
     ]
    }
   ],
   "source": [
    "print(suma(2, 3))"
   ]
  },
  {
   "cell_type": "markdown",
   "id": "a27fc808",
   "metadata": {},
   "source": [
    "#### paradigma orientado a objetos"
   ]
  },
  {
   "cell_type": "code",
   "execution_count": 10,
   "id": "bf5dc9ea",
   "metadata": {},
   "outputs": [],
   "source": [
    "class Persona:\n",
    "    def __init__(self, nombre, edad):\n",
    "        self.nombre = nombre\n",
    "        self.edad = edad\n",
    "\n",
    "    def saludar(self):\n",
    "        print(\"Hola, soy {} y tengo {} años\".format(self.nombre, self.edad))\n",
    "\n",
    "\n"
   ]
  },
  {
   "cell_type": "code",
   "execution_count": 11,
   "id": "5ab71356",
   "metadata": {},
   "outputs": [
    {
     "name": "stdout",
     "output_type": "stream",
     "text": [
      "Hola, soy Juan y tengo 25 años\n"
     ]
    }
   ],
   "source": [
    "p1 = Persona(\"Juan\", 25)\n",
    "p1.saludar()"
   ]
  },
  {
   "cell_type": "markdown",
   "id": "aff63372",
   "metadata": {},
   "source": [
    "## Tipos de variables"
   ]
  },
  {
   "cell_type": "markdown",
   "id": "94384746",
   "metadata": {},
   "source": [
    "    - float\n",
    "    - int\n",
    "    - String\n",
    "    - Listas\n",
    "    - Tuplas\n",
    "    - Diccionario"
   ]
  },
  {
   "cell_type": "markdown",
   "id": "44b36d3d",
   "metadata": {},
   "source": [
    "#### Float o flotentes"
   ]
  },
  {
   "cell_type": "code",
   "execution_count": 12,
   "id": "a3d8e3fe",
   "metadata": {},
   "outputs": [
    {
     "data": {
      "text/plain": [
       "float"
      ]
     },
     "execution_count": 12,
     "metadata": {},
     "output_type": "execute_result"
    }
   ],
   "source": [
    "x=3.999999999999\n",
    "type(x)"
   ]
  },
  {
   "cell_type": "markdown",
   "id": "dfd134fa",
   "metadata": {},
   "source": [
    "#### int o enteros"
   ]
  },
  {
   "cell_type": "code",
   "execution_count": 13,
   "id": "dc4a56df",
   "metadata": {},
   "outputs": [
    {
     "data": {
      "text/plain": [
       "int"
      ]
     },
     "execution_count": 13,
     "metadata": {},
     "output_type": "execute_result"
    }
   ],
   "source": [
    "x=2\n",
    "type(x)"
   ]
  },
  {
   "cell_type": "markdown",
   "id": "ac32a031",
   "metadata": {},
   "source": [
    "#### String"
   ]
  },
  {
   "cell_type": "code",
   "execution_count": 14,
   "id": "0dcbca70",
   "metadata": {},
   "outputs": [
    {
     "data": {
      "text/plain": [
       "str"
      ]
     },
     "execution_count": 14,
     "metadata": {},
     "output_type": "execute_result"
    }
   ],
   "source": [
    "x=\"Hola mundo\"\n",
    "type(x)"
   ]
  },
  {
   "cell_type": "markdown",
   "id": "9f201bf3",
   "metadata": {},
   "source": [
    "#### Lista"
   ]
  },
  {
   "cell_type": "code",
   "execution_count": 21,
   "id": "0cae0dc4",
   "metadata": {},
   "outputs": [
    {
     "data": {
      "text/plain": [
       "list"
      ]
     },
     "execution_count": 21,
     "metadata": {},
     "output_type": "execute_result"
    }
   ],
   "source": [
    "x=[1,2,3,4,4]\n",
    "type(x)"
   ]
  },
  {
   "cell_type": "code",
   "execution_count": 22,
   "id": "7c2465e5",
   "metadata": {},
   "outputs": [
    {
     "data": {
      "text/plain": [
       "[1, 2, 3, 4, 4]"
      ]
     },
     "execution_count": 22,
     "metadata": {},
     "output_type": "execute_result"
    }
   ],
   "source": [
    "x"
   ]
  },
  {
   "cell_type": "code",
   "execution_count": 23,
   "id": "6302016c",
   "metadata": {},
   "outputs": [],
   "source": [
    "x[4]=5"
   ]
  },
  {
   "cell_type": "code",
   "execution_count": 24,
   "id": "9c0df65b",
   "metadata": {},
   "outputs": [
    {
     "data": {
      "text/plain": [
       "[1, 2, 3, 4, 5]"
      ]
     },
     "execution_count": 24,
     "metadata": {},
     "output_type": "execute_result"
    }
   ],
   "source": [
    "x"
   ]
  },
  {
   "cell_type": "code",
   "execution_count": 14,
   "id": "97358af1",
   "metadata": {},
   "outputs": [
    {
     "ename": "IndexError",
     "evalue": "list assignment index out of range",
     "output_type": "error",
     "traceback": [
      "\u001b[0;31m---------------------------------------------------------------------------\u001b[0m",
      "\u001b[0;31mIndexError\u001b[0m                                Traceback (most recent call last)",
      "\u001b[0;32m/tmp/ipykernel_6884/1187090852.py\u001b[0m in \u001b[0;36m<module>\u001b[0;34m\u001b[0m\n\u001b[0;32m----> 1\u001b[0;31m \u001b[0mx\u001b[0m\u001b[0;34m[\u001b[0m\u001b[0;36m5\u001b[0m\u001b[0;34m]\u001b[0m\u001b[0;34m=\u001b[0m\u001b[0;36m6\u001b[0m\u001b[0;34m\u001b[0m\u001b[0;34m\u001b[0m\u001b[0m\n\u001b[0m",
      "\u001b[0;31mIndexError\u001b[0m: list assignment index out of range"
     ]
    }
   ],
   "source": [
    "x[5]=6"
   ]
  },
  {
   "cell_type": "code",
   "execution_count": 15,
   "id": "6f310633",
   "metadata": {},
   "outputs": [],
   "source": [
    "x[4]=5"
   ]
  },
  {
   "cell_type": "code",
   "execution_count": 16,
   "id": "73d6d20f",
   "metadata": {},
   "outputs": [
    {
     "data": {
      "text/plain": [
       "[1, 2, 3, 4, 5]"
      ]
     },
     "execution_count": 16,
     "metadata": {},
     "output_type": "execute_result"
    }
   ],
   "source": [
    "x"
   ]
  },
  {
   "cell_type": "markdown",
   "id": "e5c02d96",
   "metadata": {},
   "source": [
    "#### Tupla"
   ]
  },
  {
   "cell_type": "code",
   "execution_count": 25,
   "id": "7cba4400",
   "metadata": {},
   "outputs": [
    {
     "data": {
      "text/plain": [
       "tuple"
      ]
     },
     "execution_count": 25,
     "metadata": {},
     "output_type": "execute_result"
    }
   ],
   "source": [
    "x=(1,2,3,4,4)\n",
    "type(x)"
   ]
  },
  {
   "cell_type": "code",
   "execution_count": 19,
   "id": "d5831b02",
   "metadata": {},
   "outputs": [
    {
     "data": {
      "text/plain": [
       "1"
      ]
     },
     "execution_count": 19,
     "metadata": {},
     "output_type": "execute_result"
    }
   ],
   "source": [
    "x[0]"
   ]
  },
  {
   "cell_type": "code",
   "execution_count": 27,
   "id": "5f65792c",
   "metadata": {},
   "outputs": [
    {
     "ename": "TypeError",
     "evalue": "'tuple' object does not support item assignment",
     "output_type": "error",
     "traceback": [
      "\u001b[0;31m---------------------------------------------------------------------------\u001b[0m",
      "\u001b[0;31mTypeError\u001b[0m                                 Traceback (most recent call last)",
      "\u001b[0;32m/tmp/ipykernel_3370/2905585129.py\u001b[0m in \u001b[0;36m<module>\u001b[0;34m\u001b[0m\n\u001b[0;32m----> 1\u001b[0;31m \u001b[0mx\u001b[0m\u001b[0;34m[\u001b[0m\u001b[0;36m5\u001b[0m\u001b[0;34m]\u001b[0m\u001b[0;34m=\u001b[0m\u001b[0;36m5\u001b[0m\u001b[0;34m\u001b[0m\u001b[0;34m\u001b[0m\u001b[0m\n\u001b[0m",
      "\u001b[0;31mTypeError\u001b[0m: 'tuple' object does not support item assignment"
     ]
    }
   ],
   "source": [
    "x[5]=5"
   ]
  },
  {
   "cell_type": "code",
   "execution_count": 18,
   "id": "1ae958fa",
   "metadata": {},
   "outputs": [
    {
     "ename": "TypeError",
     "evalue": "'tuple' object does not support item assignment",
     "output_type": "error",
     "traceback": [
      "\u001b[0;31m---------------------------------------------------------------------------\u001b[0m",
      "\u001b[0;31mTypeError\u001b[0m                                 Traceback (most recent call last)",
      "\u001b[0;32m/tmp/ipykernel_6884/1187090852.py\u001b[0m in \u001b[0;36m<module>\u001b[0;34m\u001b[0m\n\u001b[0;32m----> 1\u001b[0;31m \u001b[0mx\u001b[0m\u001b[0;34m[\u001b[0m\u001b[0;36m5\u001b[0m\u001b[0;34m]\u001b[0m\u001b[0;34m=\u001b[0m\u001b[0;36m6\u001b[0m\u001b[0;34m\u001b[0m\u001b[0;34m\u001b[0m\u001b[0m\n\u001b[0m",
      "\u001b[0;31mTypeError\u001b[0m: 'tuple' object does not support item assignment"
     ]
    }
   ],
   "source": [
    "x[5]=6"
   ]
  },
  {
   "cell_type": "code",
   "execution_count": 22,
   "id": "997c8172",
   "metadata": {},
   "outputs": [
    {
     "ename": "TypeError",
     "evalue": "'tuple' object does not support item assignment",
     "output_type": "error",
     "traceback": [
      "\u001b[0;31m---------------------------------------------------------------------------\u001b[0m",
      "\u001b[0;31mTypeError\u001b[0m                                 Traceback (most recent call last)",
      "\u001b[0;32m/tmp/ipykernel_6884/3958005678.py\u001b[0m in \u001b[0;36m<module>\u001b[0;34m\u001b[0m\n\u001b[0;32m----> 1\u001b[0;31m \u001b[0mx\u001b[0m\u001b[0;34m[\u001b[0m\u001b[0;36m4\u001b[0m\u001b[0;34m]\u001b[0m\u001b[0;34m=\u001b[0m\u001b[0;36m5\u001b[0m\u001b[0;34m\u001b[0m\u001b[0;34m\u001b[0m\u001b[0m\n\u001b[0m",
      "\u001b[0;31mTypeError\u001b[0m: 'tuple' object does not support item assignment"
     ]
    }
   ],
   "source": [
    "x[4]=5"
   ]
  },
  {
   "cell_type": "code",
   "execution_count": 23,
   "id": "80d0b832",
   "metadata": {},
   "outputs": [
    {
     "data": {
      "text/plain": [
       "(1, 2, 3, 4, 4)"
      ]
     },
     "execution_count": 23,
     "metadata": {},
     "output_type": "execute_result"
    }
   ],
   "source": [
    "x"
   ]
  },
  {
   "cell_type": "markdown",
   "id": "23d755bf",
   "metadata": {},
   "source": [
    "#### Diccionario"
   ]
  },
  {
   "cell_type": "code",
   "execution_count": 24,
   "id": "742da0ba",
   "metadata": {},
   "outputs": [
    {
     "data": {
      "text/plain": [
       "dict"
      ]
     },
     "execution_count": 24,
     "metadata": {},
     "output_type": "execute_result"
    }
   ],
   "source": [
    "x={\"1\":1,\"2\":2}\n",
    "type(x)"
   ]
  },
  {
   "cell_type": "code",
   "execution_count": 25,
   "id": "e98e37ab",
   "metadata": {},
   "outputs": [
    {
     "data": {
      "text/plain": [
       "{'1': 1, '2': 2}"
      ]
     },
     "execution_count": 25,
     "metadata": {},
     "output_type": "execute_result"
    }
   ],
   "source": [
    "x"
   ]
  },
  {
   "cell_type": "code",
   "execution_count": 26,
   "id": "80a4807d",
   "metadata": {},
   "outputs": [
    {
     "data": {
      "text/plain": [
       "1"
      ]
     },
     "execution_count": 26,
     "metadata": {},
     "output_type": "execute_result"
    }
   ],
   "source": [
    "x[\"1\"]"
   ]
  },
  {
   "cell_type": "code",
   "execution_count": 27,
   "id": "f5b6a37d",
   "metadata": {},
   "outputs": [],
   "source": [
    "x[\"3\"]=3"
   ]
  },
  {
   "cell_type": "code",
   "execution_count": 28,
   "id": "8328581d",
   "metadata": {},
   "outputs": [
    {
     "data": {
      "text/plain": [
       "{'1': 1, '2': 2, '3': 3}"
      ]
     },
     "execution_count": 28,
     "metadata": {},
     "output_type": "execute_result"
    }
   ],
   "source": [
    "x"
   ]
  },
  {
   "cell_type": "code",
   "execution_count": 3,
   "id": "1778b181",
   "metadata": {},
   "outputs": [
    {
     "data": {
      "text/plain": [
       "str"
      ]
     },
     "execution_count": 3,
     "metadata": {},
     "output_type": "execute_result"
    }
   ],
   "source": [
    "type(\"Hola mi nombre es tal\".upper())"
   ]
  },
  {
   "cell_type": "code",
   "execution_count": 29,
   "id": "421142a6",
   "metadata": {},
   "outputs": [],
   "source": [
    "pr=dict()"
   ]
  },
  {
   "cell_type": "code",
   "execution_count": 30,
   "id": "6122f6dc",
   "metadata": {},
   "outputs": [
    {
     "data": {
      "text/plain": [
       "{}"
      ]
     },
     "execution_count": 30,
     "metadata": {},
     "output_type": "execute_result"
    }
   ],
   "source": [
    "pr"
   ]
  },
  {
   "cell_type": "code",
   "execution_count": 31,
   "id": "ca469eb9",
   "metadata": {},
   "outputs": [],
   "source": [
    "pr[\"nombre\"]=\"Carlos\""
   ]
  },
  {
   "cell_type": "code",
   "execution_count": 32,
   "id": "57bafed3",
   "metadata": {},
   "outputs": [
    {
     "data": {
      "text/plain": [
       "{'nombre': 'Carlos'}"
      ]
     },
     "execution_count": 32,
     "metadata": {},
     "output_type": "execute_result"
    }
   ],
   "source": [
    "pr"
   ]
  },
  {
   "cell_type": "code",
   "execution_count": 34,
   "id": "5d032b61",
   "metadata": {},
   "outputs": [],
   "source": [
    "x=np.array([])"
   ]
  },
  {
   "cell_type": "code",
   "execution_count": 35,
   "id": "19a64f57",
   "metadata": {},
   "outputs": [
    {
     "data": {
      "text/plain": [
       "array([], dtype=float64)"
      ]
     },
     "execution_count": 35,
     "metadata": {},
     "output_type": "execute_result"
    }
   ],
   "source": [
    "x"
   ]
  },
  {
   "cell_type": "code",
   "execution_count": 37,
   "id": "c22c8cd7",
   "metadata": {},
   "outputs": [
    {
     "data": {
      "text/plain": [
       "4889468156165151651561651651651651651515161115"
      ]
     },
     "execution_count": 37,
     "metadata": {},
     "output_type": "execute_result"
    }
   ],
   "source": [
    "x"
   ]
  },
  {
   "cell_type": "code",
   "execution_count": null,
   "id": "76b7cb52",
   "metadata": {},
   "outputs": [],
   "source": []
  },
  {
   "cell_type": "code",
   "execution_count": 38,
   "id": "b0019287",
   "metadata": {},
   "outputs": [],
   "source": [
    "x=[]"
   ]
  },
  {
   "cell_type": "code",
   "execution_count": 39,
   "id": "0789e873",
   "metadata": {},
   "outputs": [],
   "source": [
    "x=list()"
   ]
  },
  {
   "cell_type": "code",
   "execution_count": 40,
   "id": "da7154c6",
   "metadata": {},
   "outputs": [],
   "source": [
    "x.append(1)"
   ]
  },
  {
   "cell_type": "code",
   "execution_count": 70,
   "id": "8867e114",
   "metadata": {},
   "outputs": [],
   "source": [
    "x=[1,2,3,4]"
   ]
  },
  {
   "cell_type": "code",
   "execution_count": 72,
   "id": "2a29c8a9",
   "metadata": {},
   "outputs": [],
   "source": [
    "x=[[1,2,3],\n",
    "   [4,5,6],\n",
    "   [7,8,9]]"
   ]
  },
  {
   "cell_type": "code",
   "execution_count": 74,
   "id": "7d9c0084",
   "metadata": {},
   "outputs": [],
   "source": [
    "x=(1,2,3,4)"
   ]
  },
  {
   "cell_type": "code",
   "execution_count": 75,
   "id": "acacc23e",
   "metadata": {},
   "outputs": [],
   "source": [
    "x=list(x)"
   ]
  },
  {
   "cell_type": "code",
   "execution_count": 76,
   "id": "de171ae7",
   "metadata": {},
   "outputs": [
    {
     "data": {
      "text/plain": [
       "[1, 2, 3, 4]"
      ]
     },
     "execution_count": 76,
     "metadata": {},
     "output_type": "execute_result"
    }
   ],
   "source": [
    "x"
   ]
  },
  {
   "cell_type": "code",
   "execution_count": 60,
   "id": "1ceb4123",
   "metadata": {},
   "outputs": [
    {
     "ename": "TypeError",
     "evalue": "'float' object cannot be interpreted as an integer",
     "output_type": "error",
     "traceback": [
      "\u001b[0;31m---------------------------------------------------------------------------\u001b[0m",
      "\u001b[0;31mTypeError\u001b[0m                                 Traceback (most recent call last)",
      "\u001b[0;32m/tmp/ipykernel_3370/2388025164.py\u001b[0m in \u001b[0;36m<module>\u001b[0;34m\u001b[0m\n\u001b[0;32m----> 1\u001b[0;31m \u001b[0;32mfor\u001b[0m \u001b[0mi\u001b[0m \u001b[0;32min\u001b[0m \u001b[0mrange\u001b[0m\u001b[0;34m(\u001b[0m\u001b[0;36m1\u001b[0m\u001b[0;34m,\u001b[0m\u001b[0;36m100\u001b[0m\u001b[0;34m,\u001b[0m\u001b[0;36m0.5\u001b[0m\u001b[0;34m)\u001b[0m\u001b[0;34m:\u001b[0m\u001b[0;34m\u001b[0m\u001b[0;34m\u001b[0m\u001b[0m\n\u001b[0m\u001b[1;32m      2\u001b[0m \u001b[0;34m\u001b[0m\u001b[0m\n\u001b[1;32m      3\u001b[0m         \u001b[0mx\u001b[0m\u001b[0;34m.\u001b[0m\u001b[0mappend\u001b[0m\u001b[0;34m(\u001b[0m\u001b[0mi\u001b[0m\u001b[0;34m)\u001b[0m\u001b[0;34m\u001b[0m\u001b[0;34m\u001b[0m\u001b[0m\n\u001b[1;32m      4\u001b[0m \u001b[0;34m\u001b[0m\u001b[0m\n",
      "\u001b[0;31mTypeError\u001b[0m: 'float' object cannot be interpreted as an integer"
     ]
    }
   ],
   "source": [
    "for i in range(1,100,0.5):\n",
    "\n",
    "        x.append(i)\n",
    "    "
   ]
  },
  {
   "cell_type": "code",
   "execution_count": 47,
   "id": "9eb14fb4",
   "metadata": {},
   "outputs": [],
   "source": [
    "x=[]"
   ]
  },
  {
   "cell_type": "code",
   "execution_count": 50,
   "id": "9f0cb14b",
   "metadata": {},
   "outputs": [
    {
     "data": {
      "text/plain": [
       "array([  1,   2,   3,   4,   5,   6,   7,   8,   9,  10,  11,  12,  13,\n",
       "        14,  15,  16,  17,  18,  19,  20,  21,  22,  23,  24,  25,  26,\n",
       "        27,  28,  29,  30,  31,  32,  33,  34,  35,  36,  37,  38,  39,\n",
       "        40,  41,  42,  43,  44,  45,  46,  47,  48,  49,  50,  51,  52,\n",
       "        53,  54,  55,  56,  57,  58,  59,  60,  61,  62,  63,  64,  65,\n",
       "        66,  67,  68,  69,  70,  71,  72,  73,  74,  75,  76,  77,  78,\n",
       "        79,  80,  81,  82,  83,  84,  85,  86,  87,  88,  89,  90,  91,\n",
       "        92,  93,  94,  95,  96,  97,  98,  99, 100])"
      ]
     },
     "execution_count": 50,
     "metadata": {},
     "output_type": "execute_result"
    }
   ],
   "source": [
    "np.array(range(1,100+1))"
   ]
  },
  {
   "cell_type": "code",
   "execution_count": 48,
   "id": "eeeb7332",
   "metadata": {},
   "outputs": [],
   "source": [
    "x.append(5)"
   ]
  },
  {
   "cell_type": "code",
   "execution_count": 49,
   "id": "2d103358",
   "metadata": {},
   "outputs": [
    {
     "data": {
      "text/plain": [
       "[5]"
      ]
     },
     "execution_count": 49,
     "metadata": {},
     "output_type": "execute_result"
    }
   ],
   "source": [
    "x"
   ]
  },
  {
   "cell_type": "code",
   "execution_count": 67,
   "id": "ef2fbf88",
   "metadata": {},
   "outputs": [],
   "source": [
    "x=np.linspace(1,100,10000)"
   ]
  },
  {
   "cell_type": "code",
   "execution_count": 66,
   "id": "d7130951",
   "metadata": {},
   "outputs": [
    {
     "data": {
      "text/plain": [
       "array([ 1,  5,  9, 13, 17, 21, 25, 29, 33, 37, 41, 45, 49, 53, 57, 61, 65,\n",
       "       69, 73, 77, 81, 85, 89, 93, 97])"
      ]
     },
     "execution_count": 66,
     "metadata": {},
     "output_type": "execute_result"
    }
   ],
   "source": [
    "np.array(range(1,100,4))"
   ]
  },
  {
   "cell_type": "code",
   "execution_count": 78,
   "id": "3e7f5b92",
   "metadata": {},
   "outputs": [],
   "source": [
    "x=np.zeros(100)"
   ]
  },
  {
   "cell_type": "code",
   "execution_count": 79,
   "id": "e37efc4f",
   "metadata": {},
   "outputs": [
    {
     "data": {
      "text/plain": [
       "array([0., 0., 0., 0., 0., 0., 0., 0., 0., 0., 0., 0., 0., 0., 0., 0., 0.,\n",
       "       0., 0., 0., 0., 0., 0., 0., 0., 0., 0., 0., 0., 0., 0., 0., 0., 0.,\n",
       "       0., 0., 0., 0., 0., 0., 0., 0., 0., 0., 0., 0., 0., 0., 0., 0., 0.,\n",
       "       0., 0., 0., 0., 0., 0., 0., 0., 0., 0., 0., 0., 0., 0., 0., 0., 0.,\n",
       "       0., 0., 0., 0., 0., 0., 0., 0., 0., 0., 0., 0., 0., 0., 0., 0., 0.,\n",
       "       0., 0., 0., 0., 0., 0., 0., 0., 0., 0., 0., 0., 0., 0., 0.])"
      ]
     },
     "execution_count": 79,
     "metadata": {},
     "output_type": "execute_result"
    }
   ],
   "source": [
    "x"
   ]
  },
  {
   "cell_type": "code",
   "execution_count": 80,
   "id": "c3c1a62b",
   "metadata": {},
   "outputs": [],
   "source": [
    "x[0]=1"
   ]
  },
  {
   "cell_type": "code",
   "execution_count": null,
   "id": "b431d81f",
   "metadata": {},
   "outputs": [],
   "source": []
  },
  {
   "cell_type": "code",
   "execution_count": 81,
   "id": "ccbd2b8d",
   "metadata": {},
   "outputs": [
    {
     "data": {
      "text/plain": [
       "array([1., 0., 0., 0., 0., 0., 0., 0., 0., 0., 0., 0., 0., 0., 0., 0., 0.,\n",
       "       0., 0., 0., 0., 0., 0., 0., 0., 0., 0., 0., 0., 0., 0., 0., 0., 0.,\n",
       "       0., 0., 0., 0., 0., 0., 0., 0., 0., 0., 0., 0., 0., 0., 0., 0., 0.,\n",
       "       0., 0., 0., 0., 0., 0., 0., 0., 0., 0., 0., 0., 0., 0., 0., 0., 0.,\n",
       "       0., 0., 0., 0., 0., 0., 0., 0., 0., 0., 0., 0., 0., 0., 0., 0., 0.,\n",
       "       0., 0., 0., 0., 0., 0., 0., 0., 0., 0., 0., 0., 0., 0., 0.])"
      ]
     },
     "execution_count": 81,
     "metadata": {},
     "output_type": "execute_result"
    }
   ],
   "source": [
    "x"
   ]
  },
  {
   "cell_type": "code",
   "execution_count": 94,
   "id": "60766a35",
   "metadata": {},
   "outputs": [
    {
     "data": {
      "text/plain": [
       "1"
      ]
     },
     "execution_count": 94,
     "metadata": {},
     "output_type": "execute_result"
    }
   ],
   "source": [
    "7%2"
   ]
  },
  {
   "cell_type": "code",
   "execution_count": 107,
   "id": "d4a3c03c",
   "metadata": {},
   "outputs": [],
   "source": [
    "x=[]"
   ]
  },
  {
   "cell_type": "code",
   "execution_count": 108,
   "id": "cc119194",
   "metadata": {
    "scrolled": false
   },
   "outputs": [
    {
     "name": "stdout",
     "output_type": "stream",
     "text": [
      "[2, 4, 6, 8, 10, 12, 14, 16, 18, 20, 22, 24, 26, 28, 30, 32, 34, 36, 38, 40, 42, 44, 46, 48, 50, 52, 54, 56, 58, 60, 62, 64, 66, 68, 70, 72, 74, 76, 78, 80, 82, 84, 86, 88, 90, 92, 94, 96, 98, 100]\n"
     ]
    }
   ],
   "source": [
    "for i in range(1,101):\n",
    "    if i%2==0:\n",
    "        x.append(i)\n",
    "print(x)"
   ]
  },
  {
   "cell_type": "code",
   "execution_count": 104,
   "id": "66b4379f",
   "metadata": {},
   "outputs": [],
   "source": [
    "x=[ i for i in range(1,101) if  i%2==0]"
   ]
  },
  {
   "cell_type": "code",
   "execution_count": 106,
   "id": "b2818351",
   "metadata": {},
   "outputs": [
    {
     "name": "stdout",
     "output_type": "stream",
     "text": [
      "[2, 4, 6, 8, 10, 12, 14, 16, 18, 20, 22, 24, 26, 28, 30, 32, 34, 36, 38, 40, 42, 44, 46, 48, 50, 52, 54, 56, 58, 60, 62, 64, 66, 68, 70, 72, 74, 76, 78, 80, 82, 84, 86, 88, 90, 92, 94, 96, 98, 100]\n"
     ]
    }
   ],
   "source": [
    "print(x)"
   ]
  },
  {
   "cell_type": "code",
   "execution_count": 117,
   "id": "d27e6330",
   "metadata": {},
   "outputs": [
    {
     "data": {
      "text/plain": [
       "2"
      ]
     },
     "execution_count": 117,
     "metadata": {},
     "output_type": "execute_result"
    }
   ],
   "source": [
    "8%3"
   ]
  },
  {
   "cell_type": "code",
   "execution_count": 119,
   "id": "7d2e160c",
   "metadata": {},
   "outputs": [],
   "source": []
  },
  {
   "cell_type": "code",
   "execution_count": 129,
   "id": "a24fa433",
   "metadata": {},
   "outputs": [],
   "source": [
    "x=dict()\n",
    "s=0\n",
    "for i in range(1,101):\n",
    "\n",
    "    if i%2==0:\n",
    "        x[s]=i\n",
    "        s=s+1"
   ]
  },
  {
   "cell_type": "code",
   "execution_count": 130,
   "id": "3b6b4f5b",
   "metadata": {},
   "outputs": [
    {
     "data": {
      "text/plain": [
       "2"
      ]
     },
     "execution_count": 130,
     "metadata": {},
     "output_type": "execute_result"
    }
   ],
   "source": [
    "x[0]"
   ]
  },
  {
   "cell_type": "code",
   "execution_count": 131,
   "id": "484d120d",
   "metadata": {},
   "outputs": [
    {
     "data": {
      "text/plain": [
       "{0: 2,\n",
       " 1: 4,\n",
       " 2: 6,\n",
       " 3: 8,\n",
       " 4: 10,\n",
       " 5: 12,\n",
       " 6: 14,\n",
       " 7: 16,\n",
       " 8: 18,\n",
       " 9: 20,\n",
       " 10: 22,\n",
       " 11: 24,\n",
       " 12: 26,\n",
       " 13: 28,\n",
       " 14: 30,\n",
       " 15: 32,\n",
       " 16: 34,\n",
       " 17: 36,\n",
       " 18: 38,\n",
       " 19: 40,\n",
       " 20: 42,\n",
       " 21: 44,\n",
       " 22: 46,\n",
       " 23: 48,\n",
       " 24: 50,\n",
       " 25: 52,\n",
       " 26: 54,\n",
       " 27: 56,\n",
       " 28: 58,\n",
       " 29: 60,\n",
       " 30: 62,\n",
       " 31: 64,\n",
       " 32: 66,\n",
       " 33: 68,\n",
       " 34: 70,\n",
       " 35: 72,\n",
       " 36: 74,\n",
       " 37: 76,\n",
       " 38: 78,\n",
       " 39: 80,\n",
       " 40: 82,\n",
       " 41: 84,\n",
       " 42: 86,\n",
       " 43: 88,\n",
       " 44: 90,\n",
       " 45: 92,\n",
       " 46: 94,\n",
       " 47: 96,\n",
       " 48: 98,\n",
       " 49: 100}"
      ]
     },
     "execution_count": 131,
     "metadata": {},
     "output_type": "execute_result"
    }
   ],
   "source": [
    "x"
   ]
  },
  {
   "cell_type": "code",
   "execution_count": 145,
   "id": "22e0ba15",
   "metadata": {},
   "outputs": [],
   "source": [
    "x=\"Mario\""
   ]
  },
  {
   "cell_type": "code",
   "execution_count": 146,
   "id": "9cdea0d7",
   "metadata": {},
   "outputs": [],
   "source": [
    "x=x+\"Montero\""
   ]
  },
  {
   "cell_type": "code",
   "execution_count": 147,
   "id": "7cb0f570",
   "metadata": {},
   "outputs": [
    {
     "data": {
      "text/plain": [
       "'MarioMontero'"
      ]
     },
     "execution_count": 147,
     "metadata": {},
     "output_type": "execute_result"
    }
   ],
   "source": [
    "x"
   ]
  },
  {
   "cell_type": "code",
   "execution_count": 152,
   "id": "7efbc8f4",
   "metadata": {},
   "outputs": [
    {
     "data": {
      "text/plain": [
       "'MrioMontero'"
      ]
     },
     "execution_count": 152,
     "metadata": {},
     "output_type": "execute_result"
    }
   ],
   "source": [
    "x.replace(\"a\",\"\")"
   ]
  },
  {
   "cell_type": "code",
   "execution_count": 153,
   "id": "5f3ecfb5",
   "metadata": {},
   "outputs": [
    {
     "data": {
      "text/plain": [
       "'Mi nombre es Jose y tengo 22 años'"
      ]
     },
     "execution_count": 153,
     "metadata": {},
     "output_type": "execute_result"
    }
   ],
   "source": [
    "\"Mi nombre es {} y tengo {} años\".format(\"Jose\",\"22\")"
   ]
  },
  {
   "cell_type": "code",
   "execution_count": 1,
   "id": "928151f0",
   "metadata": {},
   "outputs": [
    {
     "data": {
      "text/plain": [
       "'Hola, mi nombre es Mario.\\nTrabajo en K\\ny estudio en Universidad de Atlántico'"
      ]
     },
     "execution_count": 1,
     "metadata": {},
     "output_type": "execute_result"
    }
   ],
   "source": [
    "\"\"\"Hola, mi nombre es {}.\n",
    "Trabajo en {}\n",
    "y estudio en {}\"\"\".format(\"Mario\", \"K\", \"Universidad de Atlántico\")\n",
    "    "
   ]
  },
  {
   "cell_type": "code",
   "execution_count": null,
   "id": "e91ff105",
   "metadata": {},
   "outputs": [],
   "source": [
    "if elif else while "
   ]
  },
  {
   "cell_type": "code",
   "execution_count": null,
   "id": "a99bfa66",
   "metadata": {},
   "outputs": [],
   "source": [
    "if (condicion):\n",
    "    (Algoritmo)"
   ]
  },
  {
   "cell_type": "code",
   "execution_count": 6,
   "id": "3df3d270",
   "metadata": {},
   "outputs": [
    {
     "data": {
      "text/plain": [
       "True"
      ]
     },
     "execution_count": 6,
     "metadata": {},
     "output_type": "execute_result"
    }
   ],
   "source": [
    "2!=4"
   ]
  },
  {
   "cell_type": "code",
   "execution_count": 7,
   "id": "1d0bf3f5",
   "metadata": {},
   "outputs": [
    {
     "data": {
      "text/plain": [
       "False"
      ]
     },
     "execution_count": 7,
     "metadata": {},
     "output_type": "execute_result"
    }
   ],
   "source": [
    "1>4"
   ]
  },
  {
   "cell_type": "code",
   "execution_count": 8,
   "id": "5d65a573",
   "metadata": {},
   "outputs": [
    {
     "data": {
      "text/plain": [
       "True"
      ]
     },
     "execution_count": 8,
     "metadata": {},
     "output_type": "execute_result"
    }
   ],
   "source": [
    "4>1"
   ]
  },
  {
   "cell_type": "code",
   "execution_count": 10,
   "id": "1d148903",
   "metadata": {},
   "outputs": [
    {
     "data": {
      "text/plain": [
       "True"
      ]
     },
     "execution_count": 10,
     "metadata": {},
     "output_type": "execute_result"
    }
   ],
   "source": [
    "4<=4"
   ]
  },
  {
   "cell_type": "code",
   "execution_count": 13,
   "id": "5d9add69",
   "metadata": {},
   "outputs": [],
   "source": [
    "x=np.linspace(1,100,1000)"
   ]
  },
  {
   "cell_type": "code",
   "execution_count": 14,
   "id": "0c206c16",
   "metadata": {
    "scrolled": false
   },
   "outputs": [
    {
     "data": {
      "text/plain": [
       "array([  1.        ,   1.0990991 ,   1.1981982 ,   1.2972973 ,\n",
       "         1.3963964 ,   1.4954955 ,   1.59459459,   1.69369369,\n",
       "         1.79279279,   1.89189189,   1.99099099,   2.09009009,\n",
       "         2.18918919,   2.28828829,   2.38738739,   2.48648649,\n",
       "         2.58558559,   2.68468468,   2.78378378,   2.88288288,\n",
       "         2.98198198,   3.08108108,   3.18018018,   3.27927928,\n",
       "         3.37837838,   3.47747748,   3.57657658,   3.67567568,\n",
       "         3.77477477,   3.87387387,   3.97297297,   4.07207207,\n",
       "         4.17117117,   4.27027027,   4.36936937,   4.46846847,\n",
       "         4.56756757,   4.66666667,   4.76576577,   4.86486486,\n",
       "         4.96396396,   5.06306306,   5.16216216,   5.26126126,\n",
       "         5.36036036,   5.45945946,   5.55855856,   5.65765766,\n",
       "         5.75675676,   5.85585586,   5.95495495,   6.05405405,\n",
       "         6.15315315,   6.25225225,   6.35135135,   6.45045045,\n",
       "         6.54954955,   6.64864865,   6.74774775,   6.84684685,\n",
       "         6.94594595,   7.04504505,   7.14414414,   7.24324324,\n",
       "         7.34234234,   7.44144144,   7.54054054,   7.63963964,\n",
       "         7.73873874,   7.83783784,   7.93693694,   8.03603604,\n",
       "         8.13513514,   8.23423423,   8.33333333,   8.43243243,\n",
       "         8.53153153,   8.63063063,   8.72972973,   8.82882883,\n",
       "         8.92792793,   9.02702703,   9.12612613,   9.22522523,\n",
       "         9.32432432,   9.42342342,   9.52252252,   9.62162162,\n",
       "         9.72072072,   9.81981982,   9.91891892,  10.01801802,\n",
       "        10.11711712,  10.21621622,  10.31531532,  10.41441441,\n",
       "        10.51351351,  10.61261261,  10.71171171,  10.81081081,\n",
       "        10.90990991,  11.00900901,  11.10810811,  11.20720721,\n",
       "        11.30630631,  11.40540541,  11.5045045 ,  11.6036036 ,\n",
       "        11.7027027 ,  11.8018018 ,  11.9009009 ,  12.        ,\n",
       "        12.0990991 ,  12.1981982 ,  12.2972973 ,  12.3963964 ,\n",
       "        12.4954955 ,  12.59459459,  12.69369369,  12.79279279,\n",
       "        12.89189189,  12.99099099,  13.09009009,  13.18918919,\n",
       "        13.28828829,  13.38738739,  13.48648649,  13.58558559,\n",
       "        13.68468468,  13.78378378,  13.88288288,  13.98198198,\n",
       "        14.08108108,  14.18018018,  14.27927928,  14.37837838,\n",
       "        14.47747748,  14.57657658,  14.67567568,  14.77477477,\n",
       "        14.87387387,  14.97297297,  15.07207207,  15.17117117,\n",
       "        15.27027027,  15.36936937,  15.46846847,  15.56756757,\n",
       "        15.66666667,  15.76576577,  15.86486486,  15.96396396,\n",
       "        16.06306306,  16.16216216,  16.26126126,  16.36036036,\n",
       "        16.45945946,  16.55855856,  16.65765766,  16.75675676,\n",
       "        16.85585586,  16.95495495,  17.05405405,  17.15315315,\n",
       "        17.25225225,  17.35135135,  17.45045045,  17.54954955,\n",
       "        17.64864865,  17.74774775,  17.84684685,  17.94594595,\n",
       "        18.04504505,  18.14414414,  18.24324324,  18.34234234,\n",
       "        18.44144144,  18.54054054,  18.63963964,  18.73873874,\n",
       "        18.83783784,  18.93693694,  19.03603604,  19.13513514,\n",
       "        19.23423423,  19.33333333,  19.43243243,  19.53153153,\n",
       "        19.63063063,  19.72972973,  19.82882883,  19.92792793,\n",
       "        20.02702703,  20.12612613,  20.22522523,  20.32432432,\n",
       "        20.42342342,  20.52252252,  20.62162162,  20.72072072,\n",
       "        20.81981982,  20.91891892,  21.01801802,  21.11711712,\n",
       "        21.21621622,  21.31531532,  21.41441441,  21.51351351,\n",
       "        21.61261261,  21.71171171,  21.81081081,  21.90990991,\n",
       "        22.00900901,  22.10810811,  22.20720721,  22.30630631,\n",
       "        22.40540541,  22.5045045 ,  22.6036036 ,  22.7027027 ,\n",
       "        22.8018018 ,  22.9009009 ,  23.        ,  23.0990991 ,\n",
       "        23.1981982 ,  23.2972973 ,  23.3963964 ,  23.4954955 ,\n",
       "        23.59459459,  23.69369369,  23.79279279,  23.89189189,\n",
       "        23.99099099,  24.09009009,  24.18918919,  24.28828829,\n",
       "        24.38738739,  24.48648649,  24.58558559,  24.68468468,\n",
       "        24.78378378,  24.88288288,  24.98198198,  25.08108108,\n",
       "        25.18018018,  25.27927928,  25.37837838,  25.47747748,\n",
       "        25.57657658,  25.67567568,  25.77477477,  25.87387387,\n",
       "        25.97297297,  26.07207207,  26.17117117,  26.27027027,\n",
       "        26.36936937,  26.46846847,  26.56756757,  26.66666667,\n",
       "        26.76576577,  26.86486486,  26.96396396,  27.06306306,\n",
       "        27.16216216,  27.26126126,  27.36036036,  27.45945946,\n",
       "        27.55855856,  27.65765766,  27.75675676,  27.85585586,\n",
       "        27.95495495,  28.05405405,  28.15315315,  28.25225225,\n",
       "        28.35135135,  28.45045045,  28.54954955,  28.64864865,\n",
       "        28.74774775,  28.84684685,  28.94594595,  29.04504505,\n",
       "        29.14414414,  29.24324324,  29.34234234,  29.44144144,\n",
       "        29.54054054,  29.63963964,  29.73873874,  29.83783784,\n",
       "        29.93693694,  30.03603604,  30.13513514,  30.23423423,\n",
       "        30.33333333,  30.43243243,  30.53153153,  30.63063063,\n",
       "        30.72972973,  30.82882883,  30.92792793,  31.02702703,\n",
       "        31.12612613,  31.22522523,  31.32432432,  31.42342342,\n",
       "        31.52252252,  31.62162162,  31.72072072,  31.81981982,\n",
       "        31.91891892,  32.01801802,  32.11711712,  32.21621622,\n",
       "        32.31531532,  32.41441441,  32.51351351,  32.61261261,\n",
       "        32.71171171,  32.81081081,  32.90990991,  33.00900901,\n",
       "        33.10810811,  33.20720721,  33.30630631,  33.40540541,\n",
       "        33.5045045 ,  33.6036036 ,  33.7027027 ,  33.8018018 ,\n",
       "        33.9009009 ,  34.        ,  34.0990991 ,  34.1981982 ,\n",
       "        34.2972973 ,  34.3963964 ,  34.4954955 ,  34.59459459,\n",
       "        34.69369369,  34.79279279,  34.89189189,  34.99099099,\n",
       "        35.09009009,  35.18918919,  35.28828829,  35.38738739,\n",
       "        35.48648649,  35.58558559,  35.68468468,  35.78378378,\n",
       "        35.88288288,  35.98198198,  36.08108108,  36.18018018,\n",
       "        36.27927928,  36.37837838,  36.47747748,  36.57657658,\n",
       "        36.67567568,  36.77477477,  36.87387387,  36.97297297,\n",
       "        37.07207207,  37.17117117,  37.27027027,  37.36936937,\n",
       "        37.46846847,  37.56756757,  37.66666667,  37.76576577,\n",
       "        37.86486486,  37.96396396,  38.06306306,  38.16216216,\n",
       "        38.26126126,  38.36036036,  38.45945946,  38.55855856,\n",
       "        38.65765766,  38.75675676,  38.85585586,  38.95495495,\n",
       "        39.05405405,  39.15315315,  39.25225225,  39.35135135,\n",
       "        39.45045045,  39.54954955,  39.64864865,  39.74774775,\n",
       "        39.84684685,  39.94594595,  40.04504505,  40.14414414,\n",
       "        40.24324324,  40.34234234,  40.44144144,  40.54054054,\n",
       "        40.63963964,  40.73873874,  40.83783784,  40.93693694,\n",
       "        41.03603604,  41.13513514,  41.23423423,  41.33333333,\n",
       "        41.43243243,  41.53153153,  41.63063063,  41.72972973,\n",
       "        41.82882883,  41.92792793,  42.02702703,  42.12612613,\n",
       "        42.22522523,  42.32432432,  42.42342342,  42.52252252,\n",
       "        42.62162162,  42.72072072,  42.81981982,  42.91891892,\n",
       "        43.01801802,  43.11711712,  43.21621622,  43.31531532,\n",
       "        43.41441441,  43.51351351,  43.61261261,  43.71171171,\n",
       "        43.81081081,  43.90990991,  44.00900901,  44.10810811,\n",
       "        44.20720721,  44.30630631,  44.40540541,  44.5045045 ,\n",
       "        44.6036036 ,  44.7027027 ,  44.8018018 ,  44.9009009 ,\n",
       "        45.        ,  45.0990991 ,  45.1981982 ,  45.2972973 ,\n",
       "        45.3963964 ,  45.4954955 ,  45.59459459,  45.69369369,\n",
       "        45.79279279,  45.89189189,  45.99099099,  46.09009009,\n",
       "        46.18918919,  46.28828829,  46.38738739,  46.48648649,\n",
       "        46.58558559,  46.68468468,  46.78378378,  46.88288288,\n",
       "        46.98198198,  47.08108108,  47.18018018,  47.27927928,\n",
       "        47.37837838,  47.47747748,  47.57657658,  47.67567568,\n",
       "        47.77477477,  47.87387387,  47.97297297,  48.07207207,\n",
       "        48.17117117,  48.27027027,  48.36936937,  48.46846847,\n",
       "        48.56756757,  48.66666667,  48.76576577,  48.86486486,\n",
       "        48.96396396,  49.06306306,  49.16216216,  49.26126126,\n",
       "        49.36036036,  49.45945946,  49.55855856,  49.65765766,\n",
       "        49.75675676,  49.85585586,  49.95495495,  50.05405405,\n",
       "        50.15315315,  50.25225225,  50.35135135,  50.45045045,\n",
       "        50.54954955,  50.64864865,  50.74774775,  50.84684685,\n",
       "        50.94594595,  51.04504505,  51.14414414,  51.24324324,\n",
       "        51.34234234,  51.44144144,  51.54054054,  51.63963964,\n",
       "        51.73873874,  51.83783784,  51.93693694,  52.03603604,\n",
       "        52.13513514,  52.23423423,  52.33333333,  52.43243243,\n",
       "        52.53153153,  52.63063063,  52.72972973,  52.82882883,\n",
       "        52.92792793,  53.02702703,  53.12612613,  53.22522523,\n",
       "        53.32432432,  53.42342342,  53.52252252,  53.62162162,\n",
       "        53.72072072,  53.81981982,  53.91891892,  54.01801802,\n",
       "        54.11711712,  54.21621622,  54.31531532,  54.41441441,\n",
       "        54.51351351,  54.61261261,  54.71171171,  54.81081081,\n",
       "        54.90990991,  55.00900901,  55.10810811,  55.20720721,\n",
       "        55.30630631,  55.40540541,  55.5045045 ,  55.6036036 ,\n",
       "        55.7027027 ,  55.8018018 ,  55.9009009 ,  56.        ,\n",
       "        56.0990991 ,  56.1981982 ,  56.2972973 ,  56.3963964 ,\n",
       "        56.4954955 ,  56.59459459,  56.69369369,  56.79279279,\n",
       "        56.89189189,  56.99099099,  57.09009009,  57.18918919,\n",
       "        57.28828829,  57.38738739,  57.48648649,  57.58558559,\n",
       "        57.68468468,  57.78378378,  57.88288288,  57.98198198,\n",
       "        58.08108108,  58.18018018,  58.27927928,  58.37837838,\n",
       "        58.47747748,  58.57657658,  58.67567568,  58.77477477,\n",
       "        58.87387387,  58.97297297,  59.07207207,  59.17117117,\n",
       "        59.27027027,  59.36936937,  59.46846847,  59.56756757,\n",
       "        59.66666667,  59.76576577,  59.86486486,  59.96396396,\n",
       "        60.06306306,  60.16216216,  60.26126126,  60.36036036,\n",
       "        60.45945946,  60.55855856,  60.65765766,  60.75675676,\n",
       "        60.85585586,  60.95495495,  61.05405405,  61.15315315,\n",
       "        61.25225225,  61.35135135,  61.45045045,  61.54954955,\n",
       "        61.64864865,  61.74774775,  61.84684685,  61.94594595,\n",
       "        62.04504505,  62.14414414,  62.24324324,  62.34234234,\n",
       "        62.44144144,  62.54054054,  62.63963964,  62.73873874,\n",
       "        62.83783784,  62.93693694,  63.03603604,  63.13513514,\n",
       "        63.23423423,  63.33333333,  63.43243243,  63.53153153,\n",
       "        63.63063063,  63.72972973,  63.82882883,  63.92792793,\n",
       "        64.02702703,  64.12612613,  64.22522523,  64.32432432,\n",
       "        64.42342342,  64.52252252,  64.62162162,  64.72072072,\n",
       "        64.81981982,  64.91891892,  65.01801802,  65.11711712,\n",
       "        65.21621622,  65.31531532,  65.41441441,  65.51351351,\n",
       "        65.61261261,  65.71171171,  65.81081081,  65.90990991,\n",
       "        66.00900901,  66.10810811,  66.20720721,  66.30630631,\n",
       "        66.40540541,  66.5045045 ,  66.6036036 ,  66.7027027 ,\n",
       "        66.8018018 ,  66.9009009 ,  67.        ,  67.0990991 ,\n",
       "        67.1981982 ,  67.2972973 ,  67.3963964 ,  67.4954955 ,\n",
       "        67.59459459,  67.69369369,  67.79279279,  67.89189189,\n",
       "        67.99099099,  68.09009009,  68.18918919,  68.28828829,\n",
       "        68.38738739,  68.48648649,  68.58558559,  68.68468468,\n",
       "        68.78378378,  68.88288288,  68.98198198,  69.08108108,\n",
       "        69.18018018,  69.27927928,  69.37837838,  69.47747748,\n",
       "        69.57657658,  69.67567568,  69.77477477,  69.87387387,\n",
       "        69.97297297,  70.07207207,  70.17117117,  70.27027027,\n",
       "        70.36936937,  70.46846847,  70.56756757,  70.66666667,\n",
       "        70.76576577,  70.86486486,  70.96396396,  71.06306306,\n",
       "        71.16216216,  71.26126126,  71.36036036,  71.45945946,\n",
       "        71.55855856,  71.65765766,  71.75675676,  71.85585586,\n",
       "        71.95495495,  72.05405405,  72.15315315,  72.25225225,\n",
       "        72.35135135,  72.45045045,  72.54954955,  72.64864865,\n",
       "        72.74774775,  72.84684685,  72.94594595,  73.04504505,\n",
       "        73.14414414,  73.24324324,  73.34234234,  73.44144144,\n",
       "        73.54054054,  73.63963964,  73.73873874,  73.83783784,\n",
       "        73.93693694,  74.03603604,  74.13513514,  74.23423423,\n",
       "        74.33333333,  74.43243243,  74.53153153,  74.63063063,\n",
       "        74.72972973,  74.82882883,  74.92792793,  75.02702703,\n",
       "        75.12612613,  75.22522523,  75.32432432,  75.42342342,\n",
       "        75.52252252,  75.62162162,  75.72072072,  75.81981982,\n",
       "        75.91891892,  76.01801802,  76.11711712,  76.21621622,\n",
       "        76.31531532,  76.41441441,  76.51351351,  76.61261261,\n",
       "        76.71171171,  76.81081081,  76.90990991,  77.00900901,\n",
       "        77.10810811,  77.20720721,  77.30630631,  77.40540541,\n",
       "        77.5045045 ,  77.6036036 ,  77.7027027 ,  77.8018018 ,\n",
       "        77.9009009 ,  78.        ,  78.0990991 ,  78.1981982 ,\n",
       "        78.2972973 ,  78.3963964 ,  78.4954955 ,  78.59459459,\n",
       "        78.69369369,  78.79279279,  78.89189189,  78.99099099,\n",
       "        79.09009009,  79.18918919,  79.28828829,  79.38738739,\n",
       "        79.48648649,  79.58558559,  79.68468468,  79.78378378,\n",
       "        79.88288288,  79.98198198,  80.08108108,  80.18018018,\n",
       "        80.27927928,  80.37837838,  80.47747748,  80.57657658,\n",
       "        80.67567568,  80.77477477,  80.87387387,  80.97297297,\n",
       "        81.07207207,  81.17117117,  81.27027027,  81.36936937,\n",
       "        81.46846847,  81.56756757,  81.66666667,  81.76576577,\n",
       "        81.86486486,  81.96396396,  82.06306306,  82.16216216,\n",
       "        82.26126126,  82.36036036,  82.45945946,  82.55855856,\n",
       "        82.65765766,  82.75675676,  82.85585586,  82.95495495,\n",
       "        83.05405405,  83.15315315,  83.25225225,  83.35135135,\n",
       "        83.45045045,  83.54954955,  83.64864865,  83.74774775,\n",
       "        83.84684685,  83.94594595,  84.04504505,  84.14414414,\n",
       "        84.24324324,  84.34234234,  84.44144144,  84.54054054,\n",
       "        84.63963964,  84.73873874,  84.83783784,  84.93693694,\n",
       "        85.03603604,  85.13513514,  85.23423423,  85.33333333,\n",
       "        85.43243243,  85.53153153,  85.63063063,  85.72972973,\n",
       "        85.82882883,  85.92792793,  86.02702703,  86.12612613,\n",
       "        86.22522523,  86.32432432,  86.42342342,  86.52252252,\n",
       "        86.62162162,  86.72072072,  86.81981982,  86.91891892,\n",
       "        87.01801802,  87.11711712,  87.21621622,  87.31531532,\n",
       "        87.41441441,  87.51351351,  87.61261261,  87.71171171,\n",
       "        87.81081081,  87.90990991,  88.00900901,  88.10810811,\n",
       "        88.20720721,  88.30630631,  88.40540541,  88.5045045 ,\n",
       "        88.6036036 ,  88.7027027 ,  88.8018018 ,  88.9009009 ,\n",
       "        89.        ,  89.0990991 ,  89.1981982 ,  89.2972973 ,\n",
       "        89.3963964 ,  89.4954955 ,  89.59459459,  89.69369369,\n",
       "        89.79279279,  89.89189189,  89.99099099,  90.09009009,\n",
       "        90.18918919,  90.28828829,  90.38738739,  90.48648649,\n",
       "        90.58558559,  90.68468468,  90.78378378,  90.88288288,\n",
       "        90.98198198,  91.08108108,  91.18018018,  91.27927928,\n",
       "        91.37837838,  91.47747748,  91.57657658,  91.67567568,\n",
       "        91.77477477,  91.87387387,  91.97297297,  92.07207207,\n",
       "        92.17117117,  92.27027027,  92.36936937,  92.46846847,\n",
       "        92.56756757,  92.66666667,  92.76576577,  92.86486486,\n",
       "        92.96396396,  93.06306306,  93.16216216,  93.26126126,\n",
       "        93.36036036,  93.45945946,  93.55855856,  93.65765766,\n",
       "        93.75675676,  93.85585586,  93.95495495,  94.05405405,\n",
       "        94.15315315,  94.25225225,  94.35135135,  94.45045045,\n",
       "        94.54954955,  94.64864865,  94.74774775,  94.84684685,\n",
       "        94.94594595,  95.04504505,  95.14414414,  95.24324324,\n",
       "        95.34234234,  95.44144144,  95.54054054,  95.63963964,\n",
       "        95.73873874,  95.83783784,  95.93693694,  96.03603604,\n",
       "        96.13513514,  96.23423423,  96.33333333,  96.43243243,\n",
       "        96.53153153,  96.63063063,  96.72972973,  96.82882883,\n",
       "        96.92792793,  97.02702703,  97.12612613,  97.22522523,\n",
       "        97.32432432,  97.42342342,  97.52252252,  97.62162162,\n",
       "        97.72072072,  97.81981982,  97.91891892,  98.01801802,\n",
       "        98.11711712,  98.21621622,  98.31531532,  98.41441441,\n",
       "        98.51351351,  98.61261261,  98.71171171,  98.81081081,\n",
       "        98.90990991,  99.00900901,  99.10810811,  99.20720721,\n",
       "        99.30630631,  99.40540541,  99.5045045 ,  99.6036036 ,\n",
       "        99.7027027 ,  99.8018018 ,  99.9009009 , 100.        ])"
      ]
     },
     "execution_count": 14,
     "metadata": {},
     "output_type": "execute_result"
    }
   ],
   "source": [
    "x"
   ]
  },
  {
   "cell_type": "code",
   "execution_count": 19,
   "id": "b398c435",
   "metadata": {},
   "outputs": [],
   "source": [
    "x1=[]\n",
    "x2=[]\n",
    "s=0\n",
    "while s<=len(x)-1:\n",
    "    if x[s]<50:\n",
    "        x1.append(x[s])\n",
    "    else:\n",
    "        x2.append(x[s])\n",
    "    s+=1\n",
    "    "
   ]
  },
  {
   "cell_type": "code",
   "execution_count": 20,
   "id": "946a17ae",
   "metadata": {
    "collapsed": true
   },
   "outputs": [
    {
     "data": {
      "text/plain": [
       "[1.0,\n",
       " 1.0990990990990992,\n",
       " 1.1981981981981982,\n",
       " 1.2972972972972974,\n",
       " 1.3963963963963963,\n",
       " 1.4954954954954955,\n",
       " 1.5945945945945947,\n",
       " 1.6936936936936937,\n",
       " 1.7927927927927927,\n",
       " 1.8918918918918919,\n",
       " 1.990990990990991,\n",
       " 2.09009009009009,\n",
       " 2.1891891891891895,\n",
       " 2.288288288288288,\n",
       " 2.3873873873873874,\n",
       " 2.4864864864864864,\n",
       " 2.5855855855855854,\n",
       " 2.684684684684685,\n",
       " 2.7837837837837838,\n",
       " 2.8828828828828827,\n",
       " 2.981981981981982,\n",
       " 3.081081081081081,\n",
       " 3.18018018018018,\n",
       " 3.279279279279279,\n",
       " 3.3783783783783785,\n",
       " 3.4774774774774775,\n",
       " 3.5765765765765765,\n",
       " 3.675675675675676,\n",
       " 3.774774774774775,\n",
       " 3.873873873873874,\n",
       " 3.972972972972973,\n",
       " 4.072072072072072,\n",
       " 4.171171171171171,\n",
       " 4.27027027027027,\n",
       " 4.36936936936937,\n",
       " 4.468468468468469,\n",
       " 4.5675675675675675,\n",
       " 4.666666666666666,\n",
       " 4.7657657657657655,\n",
       " 4.864864864864865,\n",
       " 4.963963963963964,\n",
       " 5.063063063063063,\n",
       " 5.162162162162162,\n",
       " 5.261261261261262,\n",
       " 5.36036036036036,\n",
       " 5.45945945945946,\n",
       " 5.558558558558558,\n",
       " 5.657657657657658,\n",
       " 5.756756756756757,\n",
       " 5.8558558558558556,\n",
       " 5.954954954954955,\n",
       " 6.054054054054054,\n",
       " 6.153153153153153,\n",
       " 6.252252252252252,\n",
       " 6.351351351351352,\n",
       " 6.45045045045045,\n",
       " 6.54954954954955,\n",
       " 6.648648648648649,\n",
       " 6.747747747747748,\n",
       " 6.846846846846847,\n",
       " 6.945945945945946,\n",
       " 7.045045045045045,\n",
       " 7.1441441441441444,\n",
       " 7.243243243243243,\n",
       " 7.342342342342342,\n",
       " 7.441441441441442,\n",
       " 7.54054054054054,\n",
       " 7.63963963963964,\n",
       " 7.738738738738739,\n",
       " 7.837837837837838,\n",
       " 7.936936936936937,\n",
       " 8.036036036036036,\n",
       " 8.135135135135135,\n",
       " 8.234234234234235,\n",
       " 8.333333333333332,\n",
       " 8.432432432432432,\n",
       " 8.531531531531531,\n",
       " 8.63063063063063,\n",
       " 8.72972972972973,\n",
       " 8.82882882882883,\n",
       " 8.927927927927929,\n",
       " 9.027027027027026,\n",
       " 9.126126126126126,\n",
       " 9.225225225225225,\n",
       " 9.324324324324325,\n",
       " 9.423423423423424,\n",
       " 9.522522522522523,\n",
       " 9.621621621621621,\n",
       " 9.72072072072072,\n",
       " 9.81981981981982,\n",
       " 9.91891891891892,\n",
       " 10.018018018018019,\n",
       " 10.117117117117116,\n",
       " 10.216216216216216,\n",
       " 10.315315315315315,\n",
       " 10.414414414414415,\n",
       " 10.513513513513514,\n",
       " 10.612612612612613,\n",
       " 10.711711711711711,\n",
       " 10.81081081081081,\n",
       " 10.90990990990991,\n",
       " 11.00900900900901,\n",
       " 11.108108108108109,\n",
       " 11.207207207207206,\n",
       " 11.306306306306306,\n",
       " 11.405405405405405,\n",
       " 11.504504504504505,\n",
       " 11.603603603603604,\n",
       " 11.702702702702704,\n",
       " 11.801801801801801,\n",
       " 11.9009009009009,\n",
       " 12.0,\n",
       " 12.0990990990991,\n",
       " 12.198198198198199,\n",
       " 12.297297297297298,\n",
       " 12.396396396396396,\n",
       " 12.495495495495495,\n",
       " 12.594594594594595,\n",
       " 12.693693693693694,\n",
       " 12.792792792792794,\n",
       " 12.891891891891891,\n",
       " 12.99099099099099,\n",
       " 13.09009009009009,\n",
       " 13.18918918918919,\n",
       " 13.288288288288289,\n",
       " 13.387387387387388,\n",
       " 13.486486486486486,\n",
       " 13.585585585585585,\n",
       " 13.684684684684685,\n",
       " 13.783783783783784,\n",
       " 13.882882882882884,\n",
       " 13.981981981981981,\n",
       " 14.08108108108108,\n",
       " 14.18018018018018,\n",
       " 14.27927927927928,\n",
       " 14.378378378378379,\n",
       " 14.477477477477478,\n",
       " 14.576576576576576,\n",
       " 14.675675675675675,\n",
       " 14.774774774774775,\n",
       " 14.873873873873874,\n",
       " 14.972972972972974,\n",
       " 15.072072072072071,\n",
       " 15.17117117117117,\n",
       " 15.27027027027027,\n",
       " 15.36936936936937,\n",
       " 15.468468468468469,\n",
       " 15.567567567567568,\n",
       " 15.666666666666666,\n",
       " 15.765765765765765,\n",
       " 15.864864864864865,\n",
       " 15.963963963963964,\n",
       " 16.063063063063062,\n",
       " 16.16216216216216,\n",
       " 16.26126126126126,\n",
       " 16.36036036036036,\n",
       " 16.45945945945946,\n",
       " 16.55855855855856,\n",
       " 16.65765765765766,\n",
       " 16.756756756756758,\n",
       " 16.855855855855857,\n",
       " 16.954954954954957,\n",
       " 17.054054054054053,\n",
       " 17.153153153153152,\n",
       " 17.25225225225225,\n",
       " 17.35135135135135,\n",
       " 17.45045045045045,\n",
       " 17.54954954954955,\n",
       " 17.64864864864865,\n",
       " 17.74774774774775,\n",
       " 17.846846846846848,\n",
       " 17.945945945945947,\n",
       " 18.045045045045047,\n",
       " 18.144144144144143,\n",
       " 18.243243243243242,\n",
       " 18.34234234234234,\n",
       " 18.44144144144144,\n",
       " 18.54054054054054,\n",
       " 18.63963963963964,\n",
       " 18.73873873873874,\n",
       " 18.83783783783784,\n",
       " 18.936936936936938,\n",
       " 19.036036036036037,\n",
       " 19.135135135135137,\n",
       " 19.234234234234233,\n",
       " 19.333333333333332,\n",
       " 19.43243243243243,\n",
       " 19.53153153153153,\n",
       " 19.63063063063063,\n",
       " 19.72972972972973,\n",
       " 19.82882882882883,\n",
       " 19.92792792792793,\n",
       " 20.027027027027028,\n",
       " 20.126126126126128,\n",
       " 20.225225225225227,\n",
       " 20.324324324324323,\n",
       " 20.423423423423422,\n",
       " 20.52252252252252,\n",
       " 20.62162162162162,\n",
       " 20.72072072072072,\n",
       " 20.81981981981982,\n",
       " 20.91891891891892,\n",
       " 21.01801801801802,\n",
       " 21.117117117117118,\n",
       " 21.216216216216218,\n",
       " 21.315315315315317,\n",
       " 21.414414414414413,\n",
       " 21.513513513513512,\n",
       " 21.61261261261261,\n",
       " 21.71171171171171,\n",
       " 21.81081081081081,\n",
       " 21.90990990990991,\n",
       " 22.00900900900901,\n",
       " 22.10810810810811,\n",
       " 22.207207207207208,\n",
       " 22.306306306306308,\n",
       " 22.405405405405407,\n",
       " 22.504504504504506,\n",
       " 22.603603603603602,\n",
       " 22.7027027027027,\n",
       " 22.8018018018018,\n",
       " 22.9009009009009,\n",
       " 23.0,\n",
       " 23.0990990990991,\n",
       " 23.1981981981982,\n",
       " 23.2972972972973,\n",
       " 23.396396396396398,\n",
       " 23.495495495495497,\n",
       " 23.594594594594597,\n",
       " 23.693693693693692,\n",
       " 23.792792792792792,\n",
       " 23.89189189189189,\n",
       " 23.99099099099099,\n",
       " 24.09009009009009,\n",
       " 24.18918918918919,\n",
       " 24.28828828828829,\n",
       " 24.38738738738739,\n",
       " 24.486486486486488,\n",
       " 24.585585585585587,\n",
       " 24.684684684684687,\n",
       " 24.783783783783782,\n",
       " 24.882882882882882,\n",
       " 24.98198198198198,\n",
       " 25.08108108108108,\n",
       " 25.18018018018018,\n",
       " 25.27927927927928,\n",
       " 25.37837837837838,\n",
       " 25.47747747747748,\n",
       " 25.576576576576578,\n",
       " 25.675675675675677,\n",
       " 25.774774774774777,\n",
       " 25.873873873873872,\n",
       " 25.972972972972972,\n",
       " 26.07207207207207,\n",
       " 26.17117117117117,\n",
       " 26.27027027027027,\n",
       " 26.36936936936937,\n",
       " 26.46846846846847,\n",
       " 26.56756756756757,\n",
       " 26.666666666666668,\n",
       " 26.765765765765767,\n",
       " 26.864864864864867,\n",
       " 26.963963963963963,\n",
       " 27.063063063063062,\n",
       " 27.16216216216216,\n",
       " 27.26126126126126,\n",
       " 27.36036036036036,\n",
       " 27.45945945945946,\n",
       " 27.55855855855856,\n",
       " 27.65765765765766,\n",
       " 27.756756756756758,\n",
       " 27.855855855855857,\n",
       " 27.954954954954957,\n",
       " 28.054054054054053,\n",
       " 28.153153153153152,\n",
       " 28.25225225225225,\n",
       " 28.35135135135135,\n",
       " 28.45045045045045,\n",
       " 28.54954954954955,\n",
       " 28.64864864864865,\n",
       " 28.74774774774775,\n",
       " 28.846846846846848,\n",
       " 28.945945945945947,\n",
       " 29.045045045045047,\n",
       " 29.144144144144143,\n",
       " 29.243243243243242,\n",
       " 29.34234234234234,\n",
       " 29.44144144144144,\n",
       " 29.54054054054054,\n",
       " 29.63963963963964,\n",
       " 29.73873873873874,\n",
       " 29.83783783783784,\n",
       " 29.936936936936938,\n",
       " 30.036036036036037,\n",
       " 30.135135135135137,\n",
       " 30.234234234234233,\n",
       " 30.333333333333332,\n",
       " 30.43243243243243,\n",
       " 30.53153153153153,\n",
       " 30.63063063063063,\n",
       " 30.72972972972973,\n",
       " 30.82882882882883,\n",
       " 30.92792792792793,\n",
       " 31.027027027027028,\n",
       " 31.126126126126128,\n",
       " 31.225225225225227,\n",
       " 31.324324324324326,\n",
       " 31.423423423423422,\n",
       " 31.52252252252252,\n",
       " 31.62162162162162,\n",
       " 31.72072072072072,\n",
       " 31.81981981981982,\n",
       " 31.91891891891892,\n",
       " 32.01801801801802,\n",
       " 32.11711711711712,\n",
       " 32.21621621621622,\n",
       " 32.31531531531532,\n",
       " 32.414414414414416,\n",
       " 32.513513513513516,\n",
       " 32.61261261261261,\n",
       " 32.711711711711715,\n",
       " 32.81081081081081,\n",
       " 32.90990990990991,\n",
       " 33.009009009009006,\n",
       " 33.108108108108105,\n",
       " 33.207207207207205,\n",
       " 33.306306306306304,\n",
       " 33.4054054054054,\n",
       " 33.5045045045045,\n",
       " 33.6036036036036,\n",
       " 33.7027027027027,\n",
       " 33.8018018018018,\n",
       " 33.9009009009009,\n",
       " 34.0,\n",
       " 34.0990990990991,\n",
       " 34.1981981981982,\n",
       " 34.2972972972973,\n",
       " 34.3963963963964,\n",
       " 34.4954954954955,\n",
       " 34.5945945945946,\n",
       " 34.693693693693696,\n",
       " 34.792792792792795,\n",
       " 34.891891891891895,\n",
       " 34.990990990990994,\n",
       " 35.090090090090094,\n",
       " 35.18918918918919,\n",
       " 35.288288288288285,\n",
       " 35.387387387387385,\n",
       " 35.486486486486484,\n",
       " 35.585585585585584,\n",
       " 35.68468468468468,\n",
       " 35.78378378378378,\n",
       " 35.88288288288288,\n",
       " 35.98198198198198,\n",
       " 36.08108108108108,\n",
       " 36.18018018018018,\n",
       " 36.27927927927928,\n",
       " 36.37837837837838,\n",
       " 36.47747747747748,\n",
       " 36.57657657657658,\n",
       " 36.67567567567568,\n",
       " 36.77477477477478,\n",
       " 36.873873873873876,\n",
       " 36.972972972972975,\n",
       " 37.072072072072075,\n",
       " 37.171171171171174,\n",
       " 37.270270270270274,\n",
       " 37.36936936936937,\n",
       " 37.468468468468465,\n",
       " 37.567567567567565,\n",
       " 37.666666666666664,\n",
       " 37.765765765765764,\n",
       " 37.86486486486486,\n",
       " 37.96396396396396,\n",
       " 38.06306306306306,\n",
       " 38.16216216216216,\n",
       " 38.26126126126126,\n",
       " 38.36036036036036,\n",
       " 38.45945945945946,\n",
       " 38.55855855855856,\n",
       " 38.65765765765766,\n",
       " 38.75675675675676,\n",
       " 38.85585585585586,\n",
       " 38.95495495495496,\n",
       " 39.054054054054056,\n",
       " 39.153153153153156,\n",
       " 39.252252252252255,\n",
       " 39.351351351351354,\n",
       " 39.450450450450454,\n",
       " 39.54954954954955,\n",
       " 39.648648648648646,\n",
       " 39.747747747747745,\n",
       " 39.846846846846844,\n",
       " 39.945945945945944,\n",
       " 40.04504504504504,\n",
       " 40.14414414414414,\n",
       " 40.24324324324324,\n",
       " 40.34234234234234,\n",
       " 40.44144144144144,\n",
       " 40.54054054054054,\n",
       " 40.63963963963964,\n",
       " 40.73873873873874,\n",
       " 40.83783783783784,\n",
       " 40.93693693693694,\n",
       " 41.03603603603604,\n",
       " 41.13513513513514,\n",
       " 41.234234234234236,\n",
       " 41.333333333333336,\n",
       " 41.432432432432435,\n",
       " 41.531531531531535,\n",
       " 41.630630630630634,\n",
       " 41.72972972972973,\n",
       " 41.828828828828826,\n",
       " 41.927927927927925,\n",
       " 42.027027027027025,\n",
       " 42.126126126126124,\n",
       " 42.22522522522522,\n",
       " 42.32432432432432,\n",
       " 42.42342342342342,\n",
       " 42.52252252252252,\n",
       " 42.62162162162162,\n",
       " 42.72072072072072,\n",
       " 42.81981981981982,\n",
       " 42.91891891891892,\n",
       " 43.01801801801802,\n",
       " 43.11711711711712,\n",
       " 43.21621621621622,\n",
       " 43.31531531531532,\n",
       " 43.414414414414416,\n",
       " 43.513513513513516,\n",
       " 43.612612612612615,\n",
       " 43.711711711711715,\n",
       " 43.810810810810814,\n",
       " 43.90990990990991,\n",
       " 44.00900900900901,\n",
       " 44.108108108108105,\n",
       " 44.207207207207205,\n",
       " 44.306306306306304,\n",
       " 44.4054054054054,\n",
       " 44.5045045045045,\n",
       " 44.6036036036036,\n",
       " 44.7027027027027,\n",
       " 44.8018018018018,\n",
       " 44.9009009009009,\n",
       " 45.0,\n",
       " 45.0990990990991,\n",
       " 45.1981981981982,\n",
       " 45.2972972972973,\n",
       " 45.3963963963964,\n",
       " 45.4954954954955,\n",
       " 45.5945945945946,\n",
       " 45.693693693693696,\n",
       " 45.792792792792795,\n",
       " 45.891891891891895,\n",
       " 45.990990990990994,\n",
       " 46.090090090090094,\n",
       " 46.18918918918919,\n",
       " 46.288288288288285,\n",
       " 46.387387387387385,\n",
       " 46.486486486486484,\n",
       " 46.585585585585584,\n",
       " 46.68468468468468,\n",
       " 46.78378378378378,\n",
       " 46.88288288288288,\n",
       " 46.98198198198198,\n",
       " 47.08108108108108,\n",
       " 47.18018018018018,\n",
       " 47.27927927927928,\n",
       " 47.37837837837838,\n",
       " 47.47747747747748,\n",
       " 47.57657657657658,\n",
       " 47.67567567567568,\n",
       " 47.77477477477478,\n",
       " 47.873873873873876,\n",
       " 47.972972972972975,\n",
       " 48.072072072072075,\n",
       " 48.171171171171174,\n",
       " 48.270270270270274,\n",
       " 48.36936936936937,\n",
       " 48.468468468468465,\n",
       " 48.567567567567565,\n",
       " 48.666666666666664,\n",
       " 48.765765765765764,\n",
       " 48.86486486486486,\n",
       " 48.96396396396396,\n",
       " 49.06306306306306,\n",
       " 49.16216216216216,\n",
       " 49.26126126126126,\n",
       " 49.36036036036036,\n",
       " 49.45945945945946,\n",
       " 49.55855855855856,\n",
       " 49.65765765765766,\n",
       " 49.75675675675676,\n",
       " 49.85585585585586,\n",
       " 49.95495495495496]"
      ]
     },
     "execution_count": 20,
     "metadata": {},
     "output_type": "execute_result"
    }
   ],
   "source": [
    "x1"
   ]
  },
  {
   "cell_type": "code",
   "execution_count": 24,
   "id": "771055a5",
   "metadata": {},
   "outputs": [
    {
     "data": {
      "text/plain": [
       "100.0"
      ]
     },
     "execution_count": 24,
     "metadata": {},
     "output_type": "execute_result"
    }
   ],
   "source": [
    "x[999]"
   ]
  },
  {
   "cell_type": "code",
   "execution_count": 22,
   "id": "9478579f",
   "metadata": {},
   "outputs": [
    {
     "data": {
      "text/plain": [
       "1000"
      ]
     },
     "execution_count": 22,
     "metadata": {},
     "output_type": "execute_result"
    }
   ],
   "source": [
    "len(x)"
   ]
  },
  {
   "cell_type": "code",
   "execution_count": 25,
   "id": "12184e99",
   "metadata": {
    "collapsed": true
   },
   "outputs": [
    {
     "name": "stdout",
     "output_type": "stream",
     "text": [
      "0\n",
      "1\n",
      "2\n",
      "3\n",
      "4\n",
      "5\n",
      "6\n",
      "7\n",
      "8\n",
      "9\n",
      "10\n",
      "11\n",
      "12\n",
      "13\n",
      "14\n",
      "15\n",
      "16\n",
      "17\n",
      "18\n",
      "19\n",
      "20\n",
      "21\n",
      "22\n",
      "23\n",
      "24\n",
      "25\n",
      "26\n",
      "27\n",
      "28\n",
      "29\n",
      "30\n",
      "31\n",
      "32\n",
      "33\n",
      "34\n",
      "35\n",
      "36\n",
      "37\n",
      "38\n",
      "39\n",
      "40\n",
      "41\n",
      "42\n",
      "43\n",
      "44\n",
      "45\n",
      "46\n",
      "47\n",
      "48\n",
      "49\n",
      "50\n",
      "51\n",
      "52\n",
      "53\n",
      "54\n",
      "55\n",
      "56\n",
      "57\n",
      "58\n",
      "59\n",
      "60\n",
      "61\n",
      "62\n",
      "63\n",
      "64\n",
      "65\n",
      "66\n",
      "67\n",
      "68\n",
      "69\n",
      "70\n",
      "71\n",
      "72\n",
      "73\n",
      "74\n",
      "75\n",
      "76\n",
      "77\n",
      "78\n",
      "79\n",
      "80\n",
      "81\n",
      "82\n",
      "83\n",
      "84\n",
      "85\n",
      "86\n",
      "87\n",
      "88\n",
      "89\n",
      "90\n",
      "91\n",
      "92\n",
      "93\n",
      "94\n",
      "95\n",
      "96\n",
      "97\n",
      "98\n",
      "99\n",
      "100\n",
      "101\n",
      "102\n",
      "103\n",
      "104\n",
      "105\n",
      "106\n",
      "107\n",
      "108\n",
      "109\n",
      "110\n",
      "111\n",
      "112\n",
      "113\n",
      "114\n",
      "115\n",
      "116\n",
      "117\n",
      "118\n",
      "119\n",
      "120\n",
      "121\n",
      "122\n",
      "123\n",
      "124\n",
      "125\n",
      "126\n",
      "127\n",
      "128\n",
      "129\n",
      "130\n",
      "131\n",
      "132\n",
      "133\n",
      "134\n",
      "135\n",
      "136\n",
      "137\n",
      "138\n",
      "139\n",
      "140\n",
      "141\n",
      "142\n",
      "143\n",
      "144\n",
      "145\n",
      "146\n",
      "147\n",
      "148\n",
      "149\n",
      "150\n",
      "151\n",
      "152\n",
      "153\n",
      "154\n",
      "155\n",
      "156\n",
      "157\n",
      "158\n",
      "159\n",
      "160\n",
      "161\n",
      "162\n",
      "163\n",
      "164\n",
      "165\n",
      "166\n",
      "167\n",
      "168\n",
      "169\n",
      "170\n",
      "171\n",
      "172\n",
      "173\n",
      "174\n",
      "175\n",
      "176\n",
      "177\n",
      "178\n",
      "179\n",
      "180\n",
      "181\n",
      "182\n",
      "183\n",
      "184\n",
      "185\n",
      "186\n",
      "187\n",
      "188\n",
      "189\n",
      "190\n",
      "191\n",
      "192\n",
      "193\n",
      "194\n",
      "195\n",
      "196\n",
      "197\n",
      "198\n",
      "199\n",
      "200\n",
      "201\n",
      "202\n",
      "203\n",
      "204\n",
      "205\n",
      "206\n",
      "207\n",
      "208\n",
      "209\n",
      "210\n",
      "211\n",
      "212\n",
      "213\n",
      "214\n",
      "215\n",
      "216\n",
      "217\n",
      "218\n",
      "219\n",
      "220\n",
      "221\n",
      "222\n",
      "223\n",
      "224\n",
      "225\n",
      "226\n",
      "227\n",
      "228\n",
      "229\n",
      "230\n",
      "231\n",
      "232\n",
      "233\n",
      "234\n",
      "235\n",
      "236\n",
      "237\n",
      "238\n",
      "239\n",
      "240\n",
      "241\n",
      "242\n",
      "243\n",
      "244\n",
      "245\n",
      "246\n",
      "247\n",
      "248\n",
      "249\n",
      "250\n",
      "251\n",
      "252\n",
      "253\n",
      "254\n",
      "255\n",
      "256\n",
      "257\n",
      "258\n",
      "259\n",
      "260\n",
      "261\n",
      "262\n",
      "263\n",
      "264\n",
      "265\n",
      "266\n",
      "267\n",
      "268\n",
      "269\n",
      "270\n",
      "271\n",
      "272\n",
      "273\n",
      "274\n",
      "275\n",
      "276\n",
      "277\n",
      "278\n",
      "279\n",
      "280\n",
      "281\n",
      "282\n",
      "283\n",
      "284\n",
      "285\n",
      "286\n",
      "287\n",
      "288\n",
      "289\n",
      "290\n",
      "291\n",
      "292\n",
      "293\n",
      "294\n",
      "295\n",
      "296\n",
      "297\n",
      "298\n",
      "299\n",
      "300\n",
      "301\n",
      "302\n",
      "303\n",
      "304\n",
      "305\n",
      "306\n",
      "307\n",
      "308\n",
      "309\n",
      "310\n",
      "311\n",
      "312\n",
      "313\n",
      "314\n",
      "315\n",
      "316\n",
      "317\n",
      "318\n",
      "319\n",
      "320\n",
      "321\n",
      "322\n",
      "323\n",
      "324\n",
      "325\n",
      "326\n",
      "327\n",
      "328\n",
      "329\n",
      "330\n",
      "331\n",
      "332\n",
      "333\n",
      "334\n",
      "335\n",
      "336\n",
      "337\n",
      "338\n",
      "339\n",
      "340\n",
      "341\n",
      "342\n",
      "343\n",
      "344\n",
      "345\n",
      "346\n",
      "347\n",
      "348\n",
      "349\n",
      "350\n",
      "351\n",
      "352\n",
      "353\n",
      "354\n",
      "355\n",
      "356\n",
      "357\n",
      "358\n",
      "359\n",
      "360\n",
      "361\n",
      "362\n",
      "363\n",
      "364\n",
      "365\n",
      "366\n",
      "367\n",
      "368\n",
      "369\n",
      "370\n",
      "371\n",
      "372\n",
      "373\n",
      "374\n",
      "375\n",
      "376\n",
      "377\n",
      "378\n",
      "379\n",
      "380\n",
      "381\n",
      "382\n",
      "383\n",
      "384\n",
      "385\n",
      "386\n",
      "387\n",
      "388\n",
      "389\n",
      "390\n",
      "391\n",
      "392\n",
      "393\n",
      "394\n",
      "395\n",
      "396\n",
      "397\n",
      "398\n",
      "399\n",
      "400\n",
      "401\n",
      "402\n",
      "403\n",
      "404\n",
      "405\n",
      "406\n",
      "407\n",
      "408\n",
      "409\n",
      "410\n",
      "411\n",
      "412\n",
      "413\n",
      "414\n",
      "415\n",
      "416\n",
      "417\n",
      "418\n",
      "419\n",
      "420\n",
      "421\n",
      "422\n",
      "423\n",
      "424\n",
      "425\n",
      "426\n",
      "427\n",
      "428\n",
      "429\n",
      "430\n",
      "431\n",
      "432\n",
      "433\n",
      "434\n",
      "435\n",
      "436\n",
      "437\n",
      "438\n",
      "439\n",
      "440\n",
      "441\n",
      "442\n",
      "443\n",
      "444\n",
      "445\n",
      "446\n",
      "447\n",
      "448\n",
      "449\n",
      "450\n",
      "451\n",
      "452\n",
      "453\n",
      "454\n",
      "455\n",
      "456\n",
      "457\n",
      "458\n",
      "459\n",
      "460\n",
      "461\n",
      "462\n",
      "463\n",
      "464\n",
      "465\n",
      "466\n",
      "467\n",
      "468\n",
      "469\n",
      "470\n",
      "471\n",
      "472\n",
      "473\n",
      "474\n",
      "475\n",
      "476\n",
      "477\n",
      "478\n",
      "479\n",
      "480\n",
      "481\n",
      "482\n",
      "483\n",
      "484\n",
      "485\n",
      "486\n",
      "487\n",
      "488\n",
      "489\n",
      "490\n",
      "491\n",
      "492\n",
      "493\n",
      "494\n",
      "495\n",
      "496\n",
      "497\n",
      "498\n",
      "499\n",
      "500\n",
      "501\n",
      "502\n",
      "503\n",
      "504\n",
      "505\n",
      "506\n",
      "507\n",
      "508\n",
      "509\n",
      "510\n",
      "511\n",
      "512\n",
      "513\n",
      "514\n",
      "515\n",
      "516\n",
      "517\n",
      "518\n",
      "519\n",
      "520\n",
      "521\n",
      "522\n",
      "523\n",
      "524\n",
      "525\n",
      "526\n",
      "527\n",
      "528\n",
      "529\n",
      "530\n",
      "531\n",
      "532\n",
      "533\n",
      "534\n",
      "535\n",
      "536\n",
      "537\n",
      "538\n",
      "539\n",
      "540\n",
      "541\n",
      "542\n",
      "543\n",
      "544\n",
      "545\n",
      "546\n",
      "547\n",
      "548\n",
      "549\n",
      "550\n",
      "551\n",
      "552\n",
      "553\n",
      "554\n",
      "555\n",
      "556\n",
      "557\n",
      "558\n",
      "559\n",
      "560\n",
      "561\n",
      "562\n",
      "563\n",
      "564\n",
      "565\n",
      "566\n",
      "567\n",
      "568\n",
      "569\n",
      "570\n",
      "571\n",
      "572\n",
      "573\n",
      "574\n",
      "575\n",
      "576\n",
      "577\n",
      "578\n",
      "579\n",
      "580\n",
      "581\n",
      "582\n",
      "583\n",
      "584\n",
      "585\n",
      "586\n",
      "587\n",
      "588\n",
      "589\n",
      "590\n",
      "591\n",
      "592\n",
      "593\n",
      "594\n",
      "595\n",
      "596\n",
      "597\n",
      "598\n",
      "599\n",
      "600\n",
      "601\n",
      "602\n",
      "603\n",
      "604\n",
      "605\n",
      "606\n",
      "607\n",
      "608\n",
      "609\n",
      "610\n",
      "611\n",
      "612\n",
      "613\n",
      "614\n",
      "615\n",
      "616\n",
      "617\n",
      "618\n",
      "619\n",
      "620\n",
      "621\n",
      "622\n",
      "623\n",
      "624\n",
      "625\n",
      "626\n",
      "627\n",
      "628\n",
      "629\n",
      "630\n",
      "631\n",
      "632\n",
      "633\n",
      "634\n",
      "635\n",
      "636\n",
      "637\n",
      "638\n",
      "639\n",
      "640\n",
      "641\n",
      "642\n",
      "643\n",
      "644\n",
      "645\n",
      "646\n",
      "647\n",
      "648\n",
      "649\n",
      "650\n",
      "651\n",
      "652\n",
      "653\n",
      "654\n",
      "655\n",
      "656\n",
      "657\n",
      "658\n",
      "659\n",
      "660\n",
      "661\n",
      "662\n",
      "663\n",
      "664\n",
      "665\n",
      "666\n",
      "667\n",
      "668\n",
      "669\n",
      "670\n",
      "671\n",
      "672\n",
      "673\n",
      "674\n",
      "675\n",
      "676\n",
      "677\n",
      "678\n",
      "679\n",
      "680\n",
      "681\n",
      "682\n",
      "683\n",
      "684\n",
      "685\n",
      "686\n",
      "687\n",
      "688\n",
      "689\n",
      "690\n",
      "691\n",
      "692\n",
      "693\n",
      "694\n",
      "695\n",
      "696\n",
      "697\n",
      "698\n",
      "699\n",
      "700\n",
      "701\n",
      "702\n",
      "703\n",
      "704\n",
      "705\n",
      "706\n",
      "707\n",
      "708\n",
      "709\n",
      "710\n",
      "711\n",
      "712\n",
      "713\n",
      "714\n",
      "715\n",
      "716\n",
      "717\n",
      "718\n",
      "719\n",
      "720\n",
      "721\n",
      "722\n",
      "723\n",
      "724\n",
      "725\n",
      "726\n",
      "727\n",
      "728\n",
      "729\n",
      "730\n",
      "731\n",
      "732\n",
      "733\n",
      "734\n",
      "735\n",
      "736\n",
      "737\n",
      "738\n",
      "739\n",
      "740\n",
      "741\n",
      "742\n",
      "743\n",
      "744\n",
      "745\n",
      "746\n",
      "747\n",
      "748\n",
      "749\n",
      "750\n",
      "751\n",
      "752\n",
      "753\n",
      "754\n",
      "755\n",
      "756\n",
      "757\n",
      "758\n",
      "759\n",
      "760\n",
      "761\n",
      "762\n",
      "763\n",
      "764\n",
      "765\n",
      "766\n",
      "767\n",
      "768\n",
      "769\n",
      "770\n",
      "771\n",
      "772\n",
      "773\n",
      "774\n",
      "775\n",
      "776\n",
      "777\n",
      "778\n",
      "779\n",
      "780\n",
      "781\n",
      "782\n",
      "783\n",
      "784\n",
      "785\n",
      "786\n",
      "787\n",
      "788\n",
      "789\n",
      "790\n",
      "791\n",
      "792\n",
      "793\n",
      "794\n",
      "795\n",
      "796\n",
      "797\n",
      "798\n",
      "799\n",
      "800\n",
      "801\n",
      "802\n",
      "803\n",
      "804\n",
      "805\n",
      "806\n",
      "807\n",
      "808\n",
      "809\n",
      "810\n",
      "811\n",
      "812\n",
      "813\n",
      "814\n",
      "815\n",
      "816\n",
      "817\n",
      "818\n",
      "819\n",
      "820\n",
      "821\n",
      "822\n",
      "823\n",
      "824\n",
      "825\n",
      "826\n",
      "827\n",
      "828\n",
      "829\n",
      "830\n",
      "831\n",
      "832\n",
      "833\n",
      "834\n",
      "835\n",
      "836\n",
      "837\n",
      "838\n",
      "839\n",
      "840\n",
      "841\n",
      "842\n",
      "843\n",
      "844\n",
      "845\n",
      "846\n",
      "847\n",
      "848\n",
      "849\n",
      "850\n",
      "851\n",
      "852\n",
      "853\n",
      "854\n",
      "855\n",
      "856\n",
      "857\n",
      "858\n",
      "859\n",
      "860\n",
      "861\n",
      "862\n",
      "863\n",
      "864\n",
      "865\n",
      "866\n",
      "867\n",
      "868\n",
      "869\n",
      "870\n",
      "871\n",
      "872\n",
      "873\n",
      "874\n",
      "875\n",
      "876\n",
      "877\n",
      "878\n",
      "879\n",
      "880\n",
      "881\n",
      "882\n",
      "883\n",
      "884\n",
      "885\n",
      "886\n",
      "887\n",
      "888\n",
      "889\n",
      "890\n",
      "891\n",
      "892\n",
      "893\n",
      "894\n",
      "895\n",
      "896\n",
      "897\n",
      "898\n",
      "899\n",
      "900\n",
      "901\n",
      "902\n",
      "903\n",
      "904\n",
      "905\n",
      "906\n",
      "907\n",
      "908\n",
      "909\n",
      "910\n",
      "911\n",
      "912\n",
      "913\n",
      "914\n",
      "915\n",
      "916\n",
      "917\n",
      "918\n",
      "919\n",
      "920\n",
      "921\n",
      "922\n",
      "923\n",
      "924\n",
      "925\n",
      "926\n",
      "927\n",
      "928\n",
      "929\n",
      "930\n",
      "931\n",
      "932\n",
      "933\n",
      "934\n",
      "935\n",
      "936\n",
      "937\n",
      "938\n",
      "939\n",
      "940\n",
      "941\n",
      "942\n",
      "943\n",
      "944\n",
      "945\n",
      "946\n",
      "947\n",
      "948\n",
      "949\n",
      "950\n",
      "951\n",
      "952\n",
      "953\n",
      "954\n",
      "955\n",
      "956\n",
      "957\n",
      "958\n",
      "959\n",
      "960\n",
      "961\n",
      "962\n",
      "963\n",
      "964\n",
      "965\n",
      "966\n",
      "967\n",
      "968\n",
      "969\n",
      "970\n",
      "971\n",
      "972\n",
      "973\n",
      "974\n",
      "975\n",
      "976\n",
      "977\n",
      "978\n",
      "979\n",
      "980\n",
      "981\n",
      "982\n",
      "983\n",
      "984\n",
      "985\n",
      "986\n",
      "987\n",
      "988\n",
      "989\n",
      "990\n",
      "991\n",
      "992\n",
      "993\n",
      "994\n",
      "995\n",
      "996\n",
      "997\n",
      "998\n",
      "999\n"
     ]
    }
   ],
   "source": [
    "for i in range(len(x)):\n",
    "    print(i)"
   ]
  },
  {
   "cell_type": "code",
   "execution_count": 37,
   "id": "538624e5",
   "metadata": {},
   "outputs": [],
   "source": [
    "x1=[]\n",
    "x2=[]\n",
    "x3=[]\n",
    "s=0\n",
    "while s<=len(x)-1:\n",
    "    if x[s]<25:\n",
    "        x1.append(x[s])\n",
    "    elif x[s]>=25 and x[s]<75:\n",
    "        x2.append(x[s])\n",
    "    else:\n",
    "        x3.append(x[s])\n",
    "        \n",
    "    s+=1"
   ]
  },
  {
   "cell_type": "code",
   "execution_count": 33,
   "id": "0bb2948d",
   "metadata": {},
   "outputs": [
    {
     "data": {
      "text/plain": [
       "True"
      ]
     },
     "execution_count": 33,
     "metadata": {},
     "output_type": "execute_result"
    }
   ],
   "source": [
    "True and True"
   ]
  },
  {
   "cell_type": "code",
   "execution_count": 31,
   "id": "f0c9ce68",
   "metadata": {},
   "outputs": [
    {
     "data": {
      "text/plain": [
       "False"
      ]
     },
     "execution_count": 31,
     "metadata": {},
     "output_type": "execute_result"
    }
   ],
   "source": [
    "False or False"
   ]
  },
  {
   "cell_type": "code",
   "execution_count": 35,
   "id": "05f4209e",
   "metadata": {
    "collapsed": true
   },
   "outputs": [
    {
     "data": {
      "text/plain": [
       "[1.0,\n",
       " 1.0990990990990992,\n",
       " 1.1981981981981982,\n",
       " 1.2972972972972974,\n",
       " 1.3963963963963963,\n",
       " 1.4954954954954955,\n",
       " 1.5945945945945947,\n",
       " 1.6936936936936937,\n",
       " 1.7927927927927927,\n",
       " 1.8918918918918919,\n",
       " 1.990990990990991,\n",
       " 2.09009009009009,\n",
       " 2.1891891891891895,\n",
       " 2.288288288288288,\n",
       " 2.3873873873873874,\n",
       " 2.4864864864864864,\n",
       " 2.5855855855855854,\n",
       " 2.684684684684685,\n",
       " 2.7837837837837838,\n",
       " 2.8828828828828827,\n",
       " 2.981981981981982,\n",
       " 3.081081081081081,\n",
       " 3.18018018018018,\n",
       " 3.279279279279279,\n",
       " 3.3783783783783785,\n",
       " 3.4774774774774775,\n",
       " 3.5765765765765765,\n",
       " 3.675675675675676,\n",
       " 3.774774774774775,\n",
       " 3.873873873873874,\n",
       " 3.972972972972973,\n",
       " 4.072072072072072,\n",
       " 4.171171171171171,\n",
       " 4.27027027027027,\n",
       " 4.36936936936937,\n",
       " 4.468468468468469,\n",
       " 4.5675675675675675,\n",
       " 4.666666666666666,\n",
       " 4.7657657657657655,\n",
       " 4.864864864864865,\n",
       " 4.963963963963964,\n",
       " 5.063063063063063,\n",
       " 5.162162162162162,\n",
       " 5.261261261261262,\n",
       " 5.36036036036036,\n",
       " 5.45945945945946,\n",
       " 5.558558558558558,\n",
       " 5.657657657657658,\n",
       " 5.756756756756757,\n",
       " 5.8558558558558556,\n",
       " 5.954954954954955,\n",
       " 6.054054054054054,\n",
       " 6.153153153153153,\n",
       " 6.252252252252252,\n",
       " 6.351351351351352,\n",
       " 6.45045045045045,\n",
       " 6.54954954954955,\n",
       " 6.648648648648649,\n",
       " 6.747747747747748,\n",
       " 6.846846846846847,\n",
       " 6.945945945945946,\n",
       " 7.045045045045045,\n",
       " 7.1441441441441444,\n",
       " 7.243243243243243,\n",
       " 7.342342342342342,\n",
       " 7.441441441441442,\n",
       " 7.54054054054054,\n",
       " 7.63963963963964,\n",
       " 7.738738738738739,\n",
       " 7.837837837837838,\n",
       " 7.936936936936937,\n",
       " 8.036036036036036,\n",
       " 8.135135135135135,\n",
       " 8.234234234234235,\n",
       " 8.333333333333332,\n",
       " 8.432432432432432,\n",
       " 8.531531531531531,\n",
       " 8.63063063063063,\n",
       " 8.72972972972973,\n",
       " 8.82882882882883,\n",
       " 8.927927927927929,\n",
       " 9.027027027027026,\n",
       " 9.126126126126126,\n",
       " 9.225225225225225,\n",
       " 9.324324324324325,\n",
       " 9.423423423423424,\n",
       " 9.522522522522523,\n",
       " 9.621621621621621,\n",
       " 9.72072072072072,\n",
       " 9.81981981981982,\n",
       " 9.91891891891892,\n",
       " 10.018018018018019,\n",
       " 10.117117117117116,\n",
       " 10.216216216216216,\n",
       " 10.315315315315315,\n",
       " 10.414414414414415,\n",
       " 10.513513513513514,\n",
       " 10.612612612612613,\n",
       " 10.711711711711711,\n",
       " 10.81081081081081,\n",
       " 10.90990990990991,\n",
       " 11.00900900900901,\n",
       " 11.108108108108109,\n",
       " 11.207207207207206,\n",
       " 11.306306306306306,\n",
       " 11.405405405405405,\n",
       " 11.504504504504505,\n",
       " 11.603603603603604,\n",
       " 11.702702702702704,\n",
       " 11.801801801801801,\n",
       " 11.9009009009009,\n",
       " 12.0,\n",
       " 12.0990990990991,\n",
       " 12.198198198198199,\n",
       " 12.297297297297298,\n",
       " 12.396396396396396,\n",
       " 12.495495495495495,\n",
       " 12.594594594594595,\n",
       " 12.693693693693694,\n",
       " 12.792792792792794,\n",
       " 12.891891891891891,\n",
       " 12.99099099099099,\n",
       " 13.09009009009009,\n",
       " 13.18918918918919,\n",
       " 13.288288288288289,\n",
       " 13.387387387387388,\n",
       " 13.486486486486486,\n",
       " 13.585585585585585,\n",
       " 13.684684684684685,\n",
       " 13.783783783783784,\n",
       " 13.882882882882884,\n",
       " 13.981981981981981,\n",
       " 14.08108108108108,\n",
       " 14.18018018018018,\n",
       " 14.27927927927928,\n",
       " 14.378378378378379,\n",
       " 14.477477477477478,\n",
       " 14.576576576576576,\n",
       " 14.675675675675675,\n",
       " 14.774774774774775,\n",
       " 14.873873873873874,\n",
       " 14.972972972972974,\n",
       " 15.072072072072071,\n",
       " 15.17117117117117,\n",
       " 15.27027027027027,\n",
       " 15.36936936936937,\n",
       " 15.468468468468469,\n",
       " 15.567567567567568,\n",
       " 15.666666666666666,\n",
       " 15.765765765765765,\n",
       " 15.864864864864865,\n",
       " 15.963963963963964,\n",
       " 16.063063063063062,\n",
       " 16.16216216216216,\n",
       " 16.26126126126126,\n",
       " 16.36036036036036,\n",
       " 16.45945945945946,\n",
       " 16.55855855855856,\n",
       " 16.65765765765766,\n",
       " 16.756756756756758,\n",
       " 16.855855855855857,\n",
       " 16.954954954954957,\n",
       " 17.054054054054053,\n",
       " 17.153153153153152,\n",
       " 17.25225225225225,\n",
       " 17.35135135135135,\n",
       " 17.45045045045045,\n",
       " 17.54954954954955,\n",
       " 17.64864864864865,\n",
       " 17.74774774774775,\n",
       " 17.846846846846848,\n",
       " 17.945945945945947,\n",
       " 18.045045045045047,\n",
       " 18.144144144144143,\n",
       " 18.243243243243242,\n",
       " 18.34234234234234,\n",
       " 18.44144144144144,\n",
       " 18.54054054054054,\n",
       " 18.63963963963964,\n",
       " 18.73873873873874,\n",
       " 18.83783783783784,\n",
       " 18.936936936936938,\n",
       " 19.036036036036037,\n",
       " 19.135135135135137,\n",
       " 19.234234234234233,\n",
       " 19.333333333333332,\n",
       " 19.43243243243243,\n",
       " 19.53153153153153,\n",
       " 19.63063063063063,\n",
       " 19.72972972972973,\n",
       " 19.82882882882883,\n",
       " 19.92792792792793,\n",
       " 20.027027027027028,\n",
       " 20.126126126126128,\n",
       " 20.225225225225227,\n",
       " 20.324324324324323,\n",
       " 20.423423423423422,\n",
       " 20.52252252252252,\n",
       " 20.62162162162162,\n",
       " 20.72072072072072,\n",
       " 20.81981981981982,\n",
       " 20.91891891891892,\n",
       " 21.01801801801802,\n",
       " 21.117117117117118,\n",
       " 21.216216216216218,\n",
       " 21.315315315315317,\n",
       " 21.414414414414413,\n",
       " 21.513513513513512,\n",
       " 21.61261261261261,\n",
       " 21.71171171171171,\n",
       " 21.81081081081081,\n",
       " 21.90990990990991,\n",
       " 22.00900900900901,\n",
       " 22.10810810810811,\n",
       " 22.207207207207208,\n",
       " 22.306306306306308,\n",
       " 22.405405405405407,\n",
       " 22.504504504504506,\n",
       " 22.603603603603602,\n",
       " 22.7027027027027,\n",
       " 22.8018018018018,\n",
       " 22.9009009009009,\n",
       " 23.0,\n",
       " 23.0990990990991,\n",
       " 23.1981981981982,\n",
       " 23.2972972972973,\n",
       " 23.396396396396398,\n",
       " 23.495495495495497,\n",
       " 23.594594594594597,\n",
       " 23.693693693693692,\n",
       " 23.792792792792792,\n",
       " 23.89189189189189,\n",
       " 23.99099099099099,\n",
       " 24.09009009009009,\n",
       " 24.18918918918919,\n",
       " 24.28828828828829,\n",
       " 24.38738738738739,\n",
       " 24.486486486486488,\n",
       " 24.585585585585587,\n",
       " 24.684684684684687,\n",
       " 24.783783783783782,\n",
       " 24.882882882882882,\n",
       " 24.98198198198198]"
      ]
     },
     "execution_count": 35,
     "metadata": {},
     "output_type": "execute_result"
    }
   ],
   "source": [
    "x1"
   ]
  },
  {
   "cell_type": "code",
   "execution_count": 38,
   "id": "6f2418bc",
   "metadata": {
    "collapsed": true
   },
   "outputs": [
    {
     "data": {
      "text/plain": [
       "[25.08108108108108,\n",
       " 25.18018018018018,\n",
       " 25.27927927927928,\n",
       " 25.37837837837838,\n",
       " 25.47747747747748,\n",
       " 25.576576576576578,\n",
       " 25.675675675675677,\n",
       " 25.774774774774777,\n",
       " 25.873873873873872,\n",
       " 25.972972972972972,\n",
       " 26.07207207207207,\n",
       " 26.17117117117117,\n",
       " 26.27027027027027,\n",
       " 26.36936936936937,\n",
       " 26.46846846846847,\n",
       " 26.56756756756757,\n",
       " 26.666666666666668,\n",
       " 26.765765765765767,\n",
       " 26.864864864864867,\n",
       " 26.963963963963963,\n",
       " 27.063063063063062,\n",
       " 27.16216216216216,\n",
       " 27.26126126126126,\n",
       " 27.36036036036036,\n",
       " 27.45945945945946,\n",
       " 27.55855855855856,\n",
       " 27.65765765765766,\n",
       " 27.756756756756758,\n",
       " 27.855855855855857,\n",
       " 27.954954954954957,\n",
       " 28.054054054054053,\n",
       " 28.153153153153152,\n",
       " 28.25225225225225,\n",
       " 28.35135135135135,\n",
       " 28.45045045045045,\n",
       " 28.54954954954955,\n",
       " 28.64864864864865,\n",
       " 28.74774774774775,\n",
       " 28.846846846846848,\n",
       " 28.945945945945947,\n",
       " 29.045045045045047,\n",
       " 29.144144144144143,\n",
       " 29.243243243243242,\n",
       " 29.34234234234234,\n",
       " 29.44144144144144,\n",
       " 29.54054054054054,\n",
       " 29.63963963963964,\n",
       " 29.73873873873874,\n",
       " 29.83783783783784,\n",
       " 29.936936936936938,\n",
       " 30.036036036036037,\n",
       " 30.135135135135137,\n",
       " 30.234234234234233,\n",
       " 30.333333333333332,\n",
       " 30.43243243243243,\n",
       " 30.53153153153153,\n",
       " 30.63063063063063,\n",
       " 30.72972972972973,\n",
       " 30.82882882882883,\n",
       " 30.92792792792793,\n",
       " 31.027027027027028,\n",
       " 31.126126126126128,\n",
       " 31.225225225225227,\n",
       " 31.324324324324326,\n",
       " 31.423423423423422,\n",
       " 31.52252252252252,\n",
       " 31.62162162162162,\n",
       " 31.72072072072072,\n",
       " 31.81981981981982,\n",
       " 31.91891891891892,\n",
       " 32.01801801801802,\n",
       " 32.11711711711712,\n",
       " 32.21621621621622,\n",
       " 32.31531531531532,\n",
       " 32.414414414414416,\n",
       " 32.513513513513516,\n",
       " 32.61261261261261,\n",
       " 32.711711711711715,\n",
       " 32.81081081081081,\n",
       " 32.90990990990991,\n",
       " 33.009009009009006,\n",
       " 33.108108108108105,\n",
       " 33.207207207207205,\n",
       " 33.306306306306304,\n",
       " 33.4054054054054,\n",
       " 33.5045045045045,\n",
       " 33.6036036036036,\n",
       " 33.7027027027027,\n",
       " 33.8018018018018,\n",
       " 33.9009009009009,\n",
       " 34.0,\n",
       " 34.0990990990991,\n",
       " 34.1981981981982,\n",
       " 34.2972972972973,\n",
       " 34.3963963963964,\n",
       " 34.4954954954955,\n",
       " 34.5945945945946,\n",
       " 34.693693693693696,\n",
       " 34.792792792792795,\n",
       " 34.891891891891895,\n",
       " 34.990990990990994,\n",
       " 35.090090090090094,\n",
       " 35.18918918918919,\n",
       " 35.288288288288285,\n",
       " 35.387387387387385,\n",
       " 35.486486486486484,\n",
       " 35.585585585585584,\n",
       " 35.68468468468468,\n",
       " 35.78378378378378,\n",
       " 35.88288288288288,\n",
       " 35.98198198198198,\n",
       " 36.08108108108108,\n",
       " 36.18018018018018,\n",
       " 36.27927927927928,\n",
       " 36.37837837837838,\n",
       " 36.47747747747748,\n",
       " 36.57657657657658,\n",
       " 36.67567567567568,\n",
       " 36.77477477477478,\n",
       " 36.873873873873876,\n",
       " 36.972972972972975,\n",
       " 37.072072072072075,\n",
       " 37.171171171171174,\n",
       " 37.270270270270274,\n",
       " 37.36936936936937,\n",
       " 37.468468468468465,\n",
       " 37.567567567567565,\n",
       " 37.666666666666664,\n",
       " 37.765765765765764,\n",
       " 37.86486486486486,\n",
       " 37.96396396396396,\n",
       " 38.06306306306306,\n",
       " 38.16216216216216,\n",
       " 38.26126126126126,\n",
       " 38.36036036036036,\n",
       " 38.45945945945946,\n",
       " 38.55855855855856,\n",
       " 38.65765765765766,\n",
       " 38.75675675675676,\n",
       " 38.85585585585586,\n",
       " 38.95495495495496,\n",
       " 39.054054054054056,\n",
       " 39.153153153153156,\n",
       " 39.252252252252255,\n",
       " 39.351351351351354,\n",
       " 39.450450450450454,\n",
       " 39.54954954954955,\n",
       " 39.648648648648646,\n",
       " 39.747747747747745,\n",
       " 39.846846846846844,\n",
       " 39.945945945945944,\n",
       " 40.04504504504504,\n",
       " 40.14414414414414,\n",
       " 40.24324324324324,\n",
       " 40.34234234234234,\n",
       " 40.44144144144144,\n",
       " 40.54054054054054,\n",
       " 40.63963963963964,\n",
       " 40.73873873873874,\n",
       " 40.83783783783784,\n",
       " 40.93693693693694,\n",
       " 41.03603603603604,\n",
       " 41.13513513513514,\n",
       " 41.234234234234236,\n",
       " 41.333333333333336,\n",
       " 41.432432432432435,\n",
       " 41.531531531531535,\n",
       " 41.630630630630634,\n",
       " 41.72972972972973,\n",
       " 41.828828828828826,\n",
       " 41.927927927927925,\n",
       " 42.027027027027025,\n",
       " 42.126126126126124,\n",
       " 42.22522522522522,\n",
       " 42.32432432432432,\n",
       " 42.42342342342342,\n",
       " 42.52252252252252,\n",
       " 42.62162162162162,\n",
       " 42.72072072072072,\n",
       " 42.81981981981982,\n",
       " 42.91891891891892,\n",
       " 43.01801801801802,\n",
       " 43.11711711711712,\n",
       " 43.21621621621622,\n",
       " 43.31531531531532,\n",
       " 43.414414414414416,\n",
       " 43.513513513513516,\n",
       " 43.612612612612615,\n",
       " 43.711711711711715,\n",
       " 43.810810810810814,\n",
       " 43.90990990990991,\n",
       " 44.00900900900901,\n",
       " 44.108108108108105,\n",
       " 44.207207207207205,\n",
       " 44.306306306306304,\n",
       " 44.4054054054054,\n",
       " 44.5045045045045,\n",
       " 44.6036036036036,\n",
       " 44.7027027027027,\n",
       " 44.8018018018018,\n",
       " 44.9009009009009,\n",
       " 45.0,\n",
       " 45.0990990990991,\n",
       " 45.1981981981982,\n",
       " 45.2972972972973,\n",
       " 45.3963963963964,\n",
       " 45.4954954954955,\n",
       " 45.5945945945946,\n",
       " 45.693693693693696,\n",
       " 45.792792792792795,\n",
       " 45.891891891891895,\n",
       " 45.990990990990994,\n",
       " 46.090090090090094,\n",
       " 46.18918918918919,\n",
       " 46.288288288288285,\n",
       " 46.387387387387385,\n",
       " 46.486486486486484,\n",
       " 46.585585585585584,\n",
       " 46.68468468468468,\n",
       " 46.78378378378378,\n",
       " 46.88288288288288,\n",
       " 46.98198198198198,\n",
       " 47.08108108108108,\n",
       " 47.18018018018018,\n",
       " 47.27927927927928,\n",
       " 47.37837837837838,\n",
       " 47.47747747747748,\n",
       " 47.57657657657658,\n",
       " 47.67567567567568,\n",
       " 47.77477477477478,\n",
       " 47.873873873873876,\n",
       " 47.972972972972975,\n",
       " 48.072072072072075,\n",
       " 48.171171171171174,\n",
       " 48.270270270270274,\n",
       " 48.36936936936937,\n",
       " 48.468468468468465,\n",
       " 48.567567567567565,\n",
       " 48.666666666666664,\n",
       " 48.765765765765764,\n",
       " 48.86486486486486,\n",
       " 48.96396396396396,\n",
       " 49.06306306306306,\n",
       " 49.16216216216216,\n",
       " 49.26126126126126,\n",
       " 49.36036036036036,\n",
       " 49.45945945945946,\n",
       " 49.55855855855856,\n",
       " 49.65765765765766,\n",
       " 49.75675675675676,\n",
       " 49.85585585585586,\n",
       " 49.95495495495496,\n",
       " 50.054054054054056,\n",
       " 50.153153153153156,\n",
       " 50.252252252252255,\n",
       " 50.351351351351354,\n",
       " 50.450450450450454,\n",
       " 50.54954954954955,\n",
       " 50.648648648648646,\n",
       " 50.747747747747745,\n",
       " 50.846846846846844,\n",
       " 50.945945945945944,\n",
       " 51.04504504504504,\n",
       " 51.14414414414414,\n",
       " 51.24324324324324,\n",
       " 51.34234234234234,\n",
       " 51.44144144144144,\n",
       " 51.54054054054054,\n",
       " 51.63963963963964,\n",
       " 51.73873873873874,\n",
       " 51.83783783783784,\n",
       " 51.93693693693694,\n",
       " 52.03603603603604,\n",
       " 52.13513513513514,\n",
       " 52.234234234234236,\n",
       " 52.333333333333336,\n",
       " 52.432432432432435,\n",
       " 52.531531531531535,\n",
       " 52.630630630630634,\n",
       " 52.72972972972973,\n",
       " 52.82882882882883,\n",
       " 52.927927927927925,\n",
       " 53.027027027027025,\n",
       " 53.126126126126124,\n",
       " 53.22522522522522,\n",
       " 53.32432432432432,\n",
       " 53.42342342342342,\n",
       " 53.52252252252252,\n",
       " 53.62162162162162,\n",
       " 53.72072072072072,\n",
       " 53.81981981981982,\n",
       " 53.91891891891892,\n",
       " 54.01801801801802,\n",
       " 54.11711711711712,\n",
       " 54.21621621621622,\n",
       " 54.31531531531532,\n",
       " 54.414414414414416,\n",
       " 54.513513513513516,\n",
       " 54.612612612612615,\n",
       " 54.711711711711715,\n",
       " 54.810810810810814,\n",
       " 54.90990990990991,\n",
       " 55.00900900900901,\n",
       " 55.108108108108105,\n",
       " 55.207207207207205,\n",
       " 55.306306306306304,\n",
       " 55.4054054054054,\n",
       " 55.5045045045045,\n",
       " 55.6036036036036,\n",
       " 55.7027027027027,\n",
       " 55.8018018018018,\n",
       " 55.9009009009009,\n",
       " 56.0,\n",
       " 56.0990990990991,\n",
       " 56.1981981981982,\n",
       " 56.2972972972973,\n",
       " 56.3963963963964,\n",
       " 56.4954954954955,\n",
       " 56.5945945945946,\n",
       " 56.693693693693696,\n",
       " 56.792792792792795,\n",
       " 56.891891891891895,\n",
       " 56.990990990990994,\n",
       " 57.090090090090094,\n",
       " 57.18918918918919,\n",
       " 57.288288288288285,\n",
       " 57.387387387387385,\n",
       " 57.486486486486484,\n",
       " 57.585585585585584,\n",
       " 57.68468468468468,\n",
       " 57.78378378378378,\n",
       " 57.88288288288288,\n",
       " 57.98198198198198,\n",
       " 58.08108108108108,\n",
       " 58.18018018018018,\n",
       " 58.27927927927928,\n",
       " 58.37837837837838,\n",
       " 58.47747747747748,\n",
       " 58.57657657657658,\n",
       " 58.67567567567568,\n",
       " 58.77477477477478,\n",
       " 58.873873873873876,\n",
       " 58.972972972972975,\n",
       " 59.072072072072075,\n",
       " 59.171171171171174,\n",
       " 59.270270270270274,\n",
       " 59.36936936936937,\n",
       " 59.468468468468465,\n",
       " 59.567567567567565,\n",
       " 59.666666666666664,\n",
       " 59.765765765765764,\n",
       " 59.86486486486486,\n",
       " 59.96396396396396,\n",
       " 60.06306306306306,\n",
       " 60.16216216216216,\n",
       " 60.26126126126126,\n",
       " 60.36036036036036,\n",
       " 60.45945945945946,\n",
       " 60.55855855855856,\n",
       " 60.65765765765766,\n",
       " 60.75675675675676,\n",
       " 60.85585585585586,\n",
       " 60.95495495495496,\n",
       " 61.054054054054056,\n",
       " 61.153153153153156,\n",
       " 61.252252252252255,\n",
       " 61.351351351351354,\n",
       " 61.450450450450454,\n",
       " 61.54954954954955,\n",
       " 61.64864864864865,\n",
       " 61.747747747747745,\n",
       " 61.846846846846844,\n",
       " 61.945945945945944,\n",
       " 62.04504504504504,\n",
       " 62.14414414414414,\n",
       " 62.24324324324324,\n",
       " 62.34234234234234,\n",
       " 62.44144144144144,\n",
       " 62.54054054054054,\n",
       " 62.63963963963964,\n",
       " 62.73873873873874,\n",
       " 62.83783783783784,\n",
       " 62.93693693693694,\n",
       " 63.03603603603604,\n",
       " 63.13513513513514,\n",
       " 63.234234234234236,\n",
       " 63.333333333333336,\n",
       " 63.432432432432435,\n",
       " 63.531531531531535,\n",
       " 63.630630630630634,\n",
       " 63.72972972972973,\n",
       " 63.82882882882883,\n",
       " 63.927927927927925,\n",
       " 64.02702702702703,\n",
       " 64.12612612612612,\n",
       " 64.22522522522522,\n",
       " 64.32432432432432,\n",
       " 64.42342342342343,\n",
       " 64.52252252252252,\n",
       " 64.62162162162161,\n",
       " 64.72072072072072,\n",
       " 64.81981981981983,\n",
       " 64.91891891891892,\n",
       " 65.01801801801801,\n",
       " 65.11711711711712,\n",
       " 65.21621621621621,\n",
       " 65.31531531531532,\n",
       " 65.41441441441441,\n",
       " 65.51351351351352,\n",
       " 65.61261261261261,\n",
       " 65.71171171171171,\n",
       " 65.8108108108108,\n",
       " 65.90990990990991,\n",
       " 66.009009009009,\n",
       " 66.10810810810811,\n",
       " 66.2072072072072,\n",
       " 66.30630630630631,\n",
       " 66.4054054054054,\n",
       " 66.50450450450451,\n",
       " 66.6036036036036,\n",
       " 66.70270270270271,\n",
       " 66.8018018018018,\n",
       " 66.90090090090091,\n",
       " 67.0,\n",
       " 67.0990990990991,\n",
       " 67.1981981981982,\n",
       " 67.29729729729729,\n",
       " 67.3963963963964,\n",
       " 67.49549549549549,\n",
       " 67.5945945945946,\n",
       " 67.69369369369369,\n",
       " 67.7927927927928,\n",
       " 67.89189189189189,\n",
       " 67.990990990991,\n",
       " 68.09009009009009,\n",
       " 68.1891891891892,\n",
       " 68.28828828828829,\n",
       " 68.38738738738739,\n",
       " 68.48648648648648,\n",
       " 68.58558558558559,\n",
       " 68.68468468468468,\n",
       " 68.78378378378379,\n",
       " 68.88288288288288,\n",
       " 68.98198198198199,\n",
       " 69.08108108108108,\n",
       " 69.18018018018019,\n",
       " 69.27927927927928,\n",
       " 69.37837837837839,\n",
       " 69.47747747747748,\n",
       " 69.57657657657657,\n",
       " 69.67567567567568,\n",
       " 69.77477477477477,\n",
       " 69.87387387387388,\n",
       " 69.97297297297297,\n",
       " 70.07207207207207,\n",
       " 70.17117117117117,\n",
       " 70.27027027027027,\n",
       " 70.36936936936937,\n",
       " 70.46846846846847,\n",
       " 70.56756756756756,\n",
       " 70.66666666666667,\n",
       " 70.76576576576576,\n",
       " 70.86486486486487,\n",
       " 70.96396396396396,\n",
       " 71.06306306306307,\n",
       " 71.16216216216216,\n",
       " 71.26126126126127,\n",
       " 71.36036036036036,\n",
       " 71.45945945945947,\n",
       " 71.55855855855856,\n",
       " 71.65765765765765,\n",
       " 71.75675675675676,\n",
       " 71.85585585585585,\n",
       " 71.95495495495496,\n",
       " 72.05405405405405,\n",
       " 72.15315315315316,\n",
       " 72.25225225225225,\n",
       " 72.35135135135135,\n",
       " 72.45045045045045,\n",
       " 72.54954954954955,\n",
       " 72.64864864864865,\n",
       " 72.74774774774775,\n",
       " 72.84684684684684,\n",
       " 72.94594594594595,\n",
       " 73.04504504504504,\n",
       " 73.14414414414415,\n",
       " 73.24324324324324,\n",
       " 73.34234234234235,\n",
       " 73.44144144144144,\n",
       " 73.54054054054055,\n",
       " 73.63963963963964,\n",
       " 73.73873873873875,\n",
       " 73.83783783783784,\n",
       " 73.93693693693693,\n",
       " 74.03603603603604,\n",
       " 74.13513513513513,\n",
       " 74.23423423423424,\n",
       " 74.33333333333333,\n",
       " 74.43243243243244,\n",
       " 74.53153153153153,\n",
       " 74.63063063063063,\n",
       " 74.72972972972973,\n",
       " 74.82882882882883,\n",
       " 74.92792792792793]"
      ]
     },
     "execution_count": 38,
     "metadata": {},
     "output_type": "execute_result"
    }
   ],
   "source": [
    "x2"
   ]
  },
  {
   "cell_type": "code",
   "execution_count": 39,
   "id": "c75b12d5",
   "metadata": {
    "collapsed": true
   },
   "outputs": [
    {
     "data": {
      "text/plain": [
       "[75.02702702702703,\n",
       " 75.12612612612612,\n",
       " 75.22522522522523,\n",
       " 75.32432432432432,\n",
       " 75.42342342342343,\n",
       " 75.52252252252252,\n",
       " 75.62162162162163,\n",
       " 75.72072072072072,\n",
       " 75.81981981981983,\n",
       " 75.91891891891892,\n",
       " 76.01801801801801,\n",
       " 76.11711711711712,\n",
       " 76.21621621621621,\n",
       " 76.31531531531532,\n",
       " 76.41441441441441,\n",
       " 76.51351351351352,\n",
       " 76.61261261261261,\n",
       " 76.71171171171171,\n",
       " 76.8108108108108,\n",
       " 76.90990990990991,\n",
       " 77.009009009009,\n",
       " 77.10810810810811,\n",
       " 77.2072072072072,\n",
       " 77.30630630630631,\n",
       " 77.4054054054054,\n",
       " 77.50450450450451,\n",
       " 77.6036036036036,\n",
       " 77.70270270270271,\n",
       " 77.8018018018018,\n",
       " 77.90090090090091,\n",
       " 78.0,\n",
       " 78.0990990990991,\n",
       " 78.1981981981982,\n",
       " 78.29729729729729,\n",
       " 78.3963963963964,\n",
       " 78.49549549549549,\n",
       " 78.5945945945946,\n",
       " 78.69369369369369,\n",
       " 78.7927927927928,\n",
       " 78.89189189189189,\n",
       " 78.990990990991,\n",
       " 79.09009009009009,\n",
       " 79.1891891891892,\n",
       " 79.28828828828829,\n",
       " 79.38738738738739,\n",
       " 79.48648648648648,\n",
       " 79.58558558558559,\n",
       " 79.68468468468468,\n",
       " 79.78378378378379,\n",
       " 79.88288288288288,\n",
       " 79.98198198198199,\n",
       " 80.08108108108108,\n",
       " 80.18018018018019,\n",
       " 80.27927927927928,\n",
       " 80.37837837837839,\n",
       " 80.47747747747748,\n",
       " 80.57657657657657,\n",
       " 80.67567567567568,\n",
       " 80.77477477477477,\n",
       " 80.87387387387388,\n",
       " 80.97297297297297,\n",
       " 81.07207207207207,\n",
       " 81.17117117117117,\n",
       " 81.27027027027027,\n",
       " 81.36936936936937,\n",
       " 81.46846846846847,\n",
       " 81.56756756756756,\n",
       " 81.66666666666667,\n",
       " 81.76576576576576,\n",
       " 81.86486486486487,\n",
       " 81.96396396396396,\n",
       " 82.06306306306307,\n",
       " 82.16216216216216,\n",
       " 82.26126126126127,\n",
       " 82.36036036036036,\n",
       " 82.45945945945947,\n",
       " 82.55855855855856,\n",
       " 82.65765765765765,\n",
       " 82.75675675675676,\n",
       " 82.85585585585585,\n",
       " 82.95495495495496,\n",
       " 83.05405405405405,\n",
       " 83.15315315315316,\n",
       " 83.25225225225225,\n",
       " 83.35135135135135,\n",
       " 83.45045045045045,\n",
       " 83.54954954954955,\n",
       " 83.64864864864865,\n",
       " 83.74774774774775,\n",
       " 83.84684684684684,\n",
       " 83.94594594594595,\n",
       " 84.04504504504504,\n",
       " 84.14414414414415,\n",
       " 84.24324324324324,\n",
       " 84.34234234234235,\n",
       " 84.44144144144144,\n",
       " 84.54054054054055,\n",
       " 84.63963963963964,\n",
       " 84.73873873873875,\n",
       " 84.83783783783784,\n",
       " 84.93693693693693,\n",
       " 85.03603603603604,\n",
       " 85.13513513513513,\n",
       " 85.23423423423424,\n",
       " 85.33333333333333,\n",
       " 85.43243243243244,\n",
       " 85.53153153153153,\n",
       " 85.63063063063063,\n",
       " 85.72972972972973,\n",
       " 85.82882882882883,\n",
       " 85.92792792792793,\n",
       " 86.02702702702703,\n",
       " 86.12612612612612,\n",
       " 86.22522522522523,\n",
       " 86.32432432432432,\n",
       " 86.42342342342343,\n",
       " 86.52252252252252,\n",
       " 86.62162162162163,\n",
       " 86.72072072072072,\n",
       " 86.81981981981983,\n",
       " 86.91891891891892,\n",
       " 87.01801801801803,\n",
       " 87.11711711711712,\n",
       " 87.21621621621621,\n",
       " 87.31531531531532,\n",
       " 87.41441441441441,\n",
       " 87.51351351351352,\n",
       " 87.61261261261261,\n",
       " 87.71171171171171,\n",
       " 87.8108108108108,\n",
       " 87.90990990990991,\n",
       " 88.009009009009,\n",
       " 88.10810810810811,\n",
       " 88.2072072072072,\n",
       " 88.30630630630631,\n",
       " 88.4054054054054,\n",
       " 88.50450450450451,\n",
       " 88.6036036036036,\n",
       " 88.70270270270271,\n",
       " 88.8018018018018,\n",
       " 88.90090090090091,\n",
       " 89.0,\n",
       " 89.0990990990991,\n",
       " 89.1981981981982,\n",
       " 89.29729729729729,\n",
       " 89.3963963963964,\n",
       " 89.49549549549549,\n",
       " 89.5945945945946,\n",
       " 89.69369369369369,\n",
       " 89.7927927927928,\n",
       " 89.89189189189189,\n",
       " 89.990990990991,\n",
       " 90.09009009009009,\n",
       " 90.1891891891892,\n",
       " 90.28828828828829,\n",
       " 90.38738738738739,\n",
       " 90.48648648648648,\n",
       " 90.58558558558559,\n",
       " 90.68468468468468,\n",
       " 90.78378378378379,\n",
       " 90.88288288288288,\n",
       " 90.98198198198199,\n",
       " 91.08108108108108,\n",
       " 91.18018018018019,\n",
       " 91.27927927927928,\n",
       " 91.37837837837839,\n",
       " 91.47747747747748,\n",
       " 91.57657657657657,\n",
       " 91.67567567567568,\n",
       " 91.77477477477477,\n",
       " 91.87387387387388,\n",
       " 91.97297297297297,\n",
       " 92.07207207207207,\n",
       " 92.17117117117117,\n",
       " 92.27027027027027,\n",
       " 92.36936936936937,\n",
       " 92.46846846846847,\n",
       " 92.56756756756756,\n",
       " 92.66666666666667,\n",
       " 92.76576576576576,\n",
       " 92.86486486486487,\n",
       " 92.96396396396396,\n",
       " 93.06306306306307,\n",
       " 93.16216216216216,\n",
       " 93.26126126126127,\n",
       " 93.36036036036036,\n",
       " 93.45945945945947,\n",
       " 93.55855855855856,\n",
       " 93.65765765765765,\n",
       " 93.75675675675676,\n",
       " 93.85585585585585,\n",
       " 93.95495495495496,\n",
       " 94.05405405405405,\n",
       " 94.15315315315316,\n",
       " 94.25225225225225,\n",
       " 94.35135135135135,\n",
       " 94.45045045045045,\n",
       " 94.54954954954955,\n",
       " 94.64864864864865,\n",
       " 94.74774774774775,\n",
       " 94.84684684684684,\n",
       " 94.94594594594595,\n",
       " 95.04504504504504,\n",
       " 95.14414414414415,\n",
       " 95.24324324324324,\n",
       " 95.34234234234235,\n",
       " 95.44144144144144,\n",
       " 95.54054054054055,\n",
       " 95.63963963963964,\n",
       " 95.73873873873875,\n",
       " 95.83783783783784,\n",
       " 95.93693693693693,\n",
       " 96.03603603603604,\n",
       " 96.13513513513513,\n",
       " 96.23423423423424,\n",
       " 96.33333333333333,\n",
       " 96.43243243243244,\n",
       " 96.53153153153153,\n",
       " 96.63063063063063,\n",
       " 96.72972972972973,\n",
       " 96.82882882882883,\n",
       " 96.92792792792793,\n",
       " 97.02702702702703,\n",
       " 97.12612612612612,\n",
       " 97.22522522522523,\n",
       " 97.32432432432432,\n",
       " 97.42342342342343,\n",
       " 97.52252252252252,\n",
       " 97.62162162162163,\n",
       " 97.72072072072072,\n",
       " 97.81981981981983,\n",
       " 97.91891891891892,\n",
       " 98.01801801801803,\n",
       " 98.11711711711712,\n",
       " 98.21621621621621,\n",
       " 98.31531531531532,\n",
       " 98.41441441441441,\n",
       " 98.51351351351352,\n",
       " 98.61261261261261,\n",
       " 98.71171171171171,\n",
       " 98.8108108108108,\n",
       " 98.90990990990991,\n",
       " 99.009009009009,\n",
       " 99.10810810810811,\n",
       " 99.2072072072072,\n",
       " 99.30630630630631,\n",
       " 99.4054054054054,\n",
       " 99.50450450450451,\n",
       " 99.6036036036036,\n",
       " 99.70270270270271,\n",
       " 99.8018018018018,\n",
       " 99.90090090090091,\n",
       " 100.0]"
      ]
     },
     "execution_count": 39,
     "metadata": {},
     "output_type": "execute_result"
    }
   ],
   "source": [
    "x3"
   ]
  },
  {
   "cell_type": "code",
   "execution_count": 40,
   "id": "6dace8d5",
   "metadata": {},
   "outputs": [
    {
     "name": "stdout",
     "output_type": "stream",
     "text": [
      "4\n"
     ]
    }
   ],
   "source": [
    "x=input()"
   ]
  },
  {
   "cell_type": "code",
   "execution_count": 41,
   "id": "915c0918",
   "metadata": {},
   "outputs": [
    {
     "data": {
      "text/plain": [
       "'4'"
      ]
     },
     "execution_count": 41,
     "metadata": {},
     "output_type": "execute_result"
    }
   ],
   "source": [
    "x"
   ]
  },
  {
   "cell_type": "code",
   "execution_count": 44,
   "id": "6dfcf0de",
   "metadata": {},
   "outputs": [],
   "source": [
    "x=float(x)"
   ]
  },
  {
   "cell_type": "code",
   "execution_count": 45,
   "id": "cc1edda5",
   "metadata": {},
   "outputs": [
    {
     "data": {
      "text/plain": [
       "4.0"
      ]
     },
     "execution_count": 45,
     "metadata": {},
     "output_type": "execute_result"
    }
   ],
   "source": [
    "x"
   ]
  },
  {
   "cell_type": "code",
   "execution_count": 48,
   "id": "777b1941",
   "metadata": {},
   "outputs": [],
   "source": [
    "def suma(a,b):\n",
    "    h=a+b\n",
    "    return h"
   ]
  },
  {
   "cell_type": "code",
   "execution_count": 52,
   "id": "a07417ec",
   "metadata": {},
   "outputs": [
    {
     "name": "stdout",
     "output_type": "stream",
     "text": [
      "Introduzca a: 10\n",
      "Introduzca b: 5\n",
      "2.0 la variable 10.0 es mayor a 5.0, entonces se realizo una división\n"
     ]
    }
   ],
   "source": [
    "a=float(input(\"Introduzca a: \"))\n",
    "b=float(input(\"Introduzca b: \"))\n",
    "x=a\n",
    "y=b\n",
    "if x==y:\n",
    "    h=suma(a,b)\n",
    "    msg=\"la variable {} es igual a {}, entonces se realizo una suma\".format(a,b)\n",
    "elif x<y:\n",
    "    h=a*b\n",
    "    msg=\"la variable {} es menor a {}, entonces se realizo una multiplicación\".format(a,b)\n",
    "else:\n",
    "    h=a/b\n",
    "    msg=\"la variable {} es mayor a {}, entonces se realizo una división\".format(a,b)\n",
    "print(h,msg)"
   ]
  },
  {
   "cell_type": "markdown",
   "id": "8e2d2570",
   "metadata": {},
   "source": [
    "# Ejercicio\n",
    "Los alumnos de un curso se han dividido en dos grupos A y B de acuerdo al sexo y el nombre. El grupo A esta formado por las mujeres con un nombre anterior a la M y los hombres con un nombre posterior a la N y el grupo B por el resto. Escribir un programa que pregunte al usuario su nombre y sexo, y muestre por pantalla el grupo que le corresponde."
   ]
  },
  {
   "cell_type": "code",
   "execution_count": 53,
   "id": "02ee08da",
   "metadata": {},
   "outputs": [
    {
     "name": "stdout",
     "output_type": "stream",
     "text": [
      "¿Cómo te llamas?Mario\n",
      "¿Cual es tu sexo (M o H)?H\n"
     ]
    }
   ],
   "source": [
    "nombre=input(\"¿Cómo te llamas? \")\n",
    "genero=input(\"¿Cual es tu sexo (M o H)? \")\n",
    "\n",
    "    "
   ]
  },
  {
   "cell_type": "code",
   "execution_count": 64,
   "id": "42dfdf3b",
   "metadata": {},
   "outputs": [
    {
     "data": {
      "text/plain": [
       "True"
      ]
     },
     "execution_count": 64,
     "metadata": {},
     "output_type": "execute_result"
    }
   ],
   "source": [
    "nombre[0].lower() <\"n\" "
   ]
  },
  {
   "cell_type": "code",
   "execution_count": 68,
   "id": "21045230",
   "metadata": {},
   "outputs": [
    {
     "data": {
      "text/plain": [
       "False"
      ]
     },
     "execution_count": 68,
     "metadata": {},
     "output_type": "execute_result"
    }
   ],
   "source": [
    "not True"
   ]
  },
  {
   "cell_type": "code",
   "execution_count": 1,
   "id": "afeabede",
   "metadata": {},
   "outputs": [],
   "source": [
    "lista=[[1,2,3,4],[1,2,3,4]]"
   ]
  },
  {
   "cell_type": "code",
   "execution_count": null,
   "id": "fe5f6d34",
   "metadata": {},
   "outputs": [],
   "source": [
    "lista."
   ]
  },
  {
   "cell_type": "code",
   "execution_count": 3,
   "id": "38d8a71e",
   "metadata": {},
   "outputs": [],
   "source": [
    "lista=np.array(lista)"
   ]
  },
  {
   "cell_type": "code",
   "execution_count": 7,
   "id": "fe5f322f",
   "metadata": {},
   "outputs": [
    {
     "data": {
      "text/plain": [
       "1"
      ]
     },
     "execution_count": 7,
     "metadata": {},
     "output_type": "execute_result"
    }
   ],
   "source": [
    "lista.min()\n"
   ]
  },
  {
   "cell_type": "code",
   "execution_count": 8,
   "id": "80be9516",
   "metadata": {},
   "outputs": [],
   "source": [
    "import pandas as pd"
   ]
  },
  {
   "cell_type": "code",
   "execution_count": 11,
   "id": "2bf933d8",
   "metadata": {},
   "outputs": [],
   "source": [
    "datos=pd.DataFrame()\n"
   ]
  },
  {
   "cell_type": "code",
   "execution_count": 13,
   "id": "5eb382fd",
   "metadata": {},
   "outputs": [],
   "source": [
    "datos[\"id\"]=np.array(range(1,100))"
   ]
  },
  {
   "cell_type": "code",
   "execution_count": 22,
   "id": "a83ca5cd",
   "metadata": {},
   "outputs": [
    {
     "data": {
      "text/html": [
       "<div>\n",
       "<style scoped>\n",
       "    .dataframe tbody tr th:only-of-type {\n",
       "        vertical-align: middle;\n",
       "    }\n",
       "\n",
       "    .dataframe tbody tr th {\n",
       "        vertical-align: top;\n",
       "    }\n",
       "\n",
       "    .dataframe thead th {\n",
       "        text-align: right;\n",
       "    }\n",
       "</style>\n",
       "<table border=\"1\" class=\"dataframe\">\n",
       "  <thead>\n",
       "    <tr style=\"text-align: right;\">\n",
       "      <th></th>\n",
       "      <th>id</th>\n",
       "    </tr>\n",
       "  </thead>\n",
       "  <tbody>\n",
       "    <tr>\n",
       "      <th>0</th>\n",
       "      <td>1</td>\n",
       "    </tr>\n",
       "    <tr>\n",
       "      <th>1</th>\n",
       "      <td>2</td>\n",
       "    </tr>\n",
       "    <tr>\n",
       "      <th>2</th>\n",
       "      <td>3</td>\n",
       "    </tr>\n",
       "    <tr>\n",
       "      <th>3</th>\n",
       "      <td>4</td>\n",
       "    </tr>\n",
       "    <tr>\n",
       "      <th>4</th>\n",
       "      <td>5</td>\n",
       "    </tr>\n",
       "    <tr>\n",
       "      <th>...</th>\n",
       "      <td>...</td>\n",
       "    </tr>\n",
       "    <tr>\n",
       "      <th>94</th>\n",
       "      <td>95</td>\n",
       "    </tr>\n",
       "    <tr>\n",
       "      <th>95</th>\n",
       "      <td>96</td>\n",
       "    </tr>\n",
       "    <tr>\n",
       "      <th>96</th>\n",
       "      <td>97</td>\n",
       "    </tr>\n",
       "    <tr>\n",
       "      <th>97</th>\n",
       "      <td>98</td>\n",
       "    </tr>\n",
       "    <tr>\n",
       "      <th>98</th>\n",
       "      <td>99</td>\n",
       "    </tr>\n",
       "  </tbody>\n",
       "</table>\n",
       "<p>99 rows × 1 columns</p>\n",
       "</div>"
      ],
      "text/plain": [
       "    id\n",
       "0    1\n",
       "1    2\n",
       "2    3\n",
       "3    4\n",
       "4    5\n",
       "..  ..\n",
       "94  95\n",
       "95  96\n",
       "96  97\n",
       "97  98\n",
       "98  99\n",
       "\n",
       "[99 rows x 1 columns]"
      ]
     },
     "execution_count": 22,
     "metadata": {},
     "output_type": "execute_result"
    }
   ],
   "source": [
    "datos"
   ]
  },
  {
   "cell_type": "code",
   "execution_count": null,
   "id": "5b551a74",
   "metadata": {},
   "outputs": [],
   "source": []
  },
  {
   "cell_type": "code",
   "execution_count": null,
   "id": "40a7e976",
   "metadata": {},
   "outputs": [],
   "source": []
  },
  {
   "cell_type": "code",
   "execution_count": null,
   "id": "7b02a170",
   "metadata": {},
   "outputs": [],
   "source": []
  },
  {
   "cell_type": "code",
   "execution_count": null,
   "id": "3f8ec4b5",
   "metadata": {},
   "outputs": [],
   "source": [
    "\n"
   ]
  },
  {
   "cell_type": "code",
   "execution_count": null,
   "id": "ff00cddd",
   "metadata": {},
   "outputs": [],
   "source": []
  }
 ],
 "metadata": {
  "kernelspec": {
   "display_name": "Python 3 (ipykernel)",
   "language": "python",
   "name": "python3"
  },
  "language_info": {
   "codemirror_mode": {
    "name": "ipython",
    "version": 3
   },
   "file_extension": ".py",
   "mimetype": "text/x-python",
   "name": "python",
   "nbconvert_exporter": "python",
   "pygments_lexer": "ipython3",
   "version": "3.10.6"
  }
 },
 "nbformat": 4,
 "nbformat_minor": 5
}
