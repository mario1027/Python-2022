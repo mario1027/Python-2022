{
 "cells": [
  {
   "cell_type": "markdown",
   "id": "367bf3e1",
   "metadata": {},
   "source": [
    "# <center> $\\text{INTRODUCCIÓN A PYTHON}$ </center>"
   ]
  },
  {
   "cell_type": "markdown",
   "id": "b28de4f4",
   "metadata": {},
   "source": [
    "## Característica"
   ]
  },
  {
   "cell_type": "markdown",
   "id": "d6107a20",
   "metadata": {},
   "source": [
    " - Es un lenguaje interpretado o interprete y de alto nivel."
   ]
  },
  {
   "cell_type": "markdown",
   "id": "fb917e1f",
   "metadata": {},
   "source": [
    "- Soporta 4 paradigmas de programación:\n",
    "    - paradigma por procedimientos o paradigma imperativo \n",
    "\n",
    "\n",
    "    - paradigma declarativo\n",
    "\n",
    "\n",
    "    - paradigma funcional\n",
    "\n",
    "\n",
    "    - paradigma orientado a objetos\n",
    "\n"
   ]
  },
  {
   "cell_type": "markdown",
   "id": "d5984075",
   "metadata": {},
   "source": [
    "### Ejemplos de paradigmas"
   ]
  },
  {
   "cell_type": "markdown",
   "id": "09100741",
   "metadata": {},
   "source": [
    "#### Paradigma declarativo"
   ]
  },
  {
   "cell_type": "code",
   "execution_count": 4,
   "id": "c8cfbd46",
   "metadata": {},
   "outputs": [],
   "source": [
    "import numpy as np"
   ]
  },
  {
   "cell_type": "markdown",
   "id": "464fac0f",
   "metadata": {},
   "source": [
    "#### paradigma por procedimientos o paradigma imperativo"
   ]
  },
  {
   "cell_type": "code",
   "execution_count": 5,
   "id": "23736fa0",
   "metadata": {},
   "outputs": [
    {
     "name": "stdout",
     "output_type": "stream",
     "text": [
      "1\n",
      "2\n",
      "3\n",
      "4\n",
      "5\n"
     ]
    }
   ],
   "source": [
    "lista = [1,2,3,4,5] \n",
    "for i in lista: \n",
    "    print(i)"
   ]
  },
  {
   "cell_type": "markdown",
   "id": "6fcfdde1",
   "metadata": {},
   "source": [
    "#### paradigma funcional"
   ]
  },
  {
   "cell_type": "code",
   "execution_count": 6,
   "id": "a6ca452c",
   "metadata": {},
   "outputs": [],
   "source": [
    "def sumar(x, y):\n",
    "    return x + y"
   ]
  },
  {
   "cell_type": "code",
   "execution_count": 7,
   "id": "01ba0c22",
   "metadata": {},
   "outputs": [
    {
     "data": {
      "text/plain": [
       "3"
      ]
     },
     "execution_count": 7,
     "metadata": {},
     "output_type": "execute_result"
    }
   ],
   "source": [
    "sumar(1, 2)"
   ]
  },
  {
   "cell_type": "code",
   "execution_count": 8,
   "id": "4c242b6f",
   "metadata": {},
   "outputs": [],
   "source": [
    "suma = lambda x, y: x + y"
   ]
  },
  {
   "cell_type": "code",
   "execution_count": 9,
   "id": "f33e2653",
   "metadata": {},
   "outputs": [
    {
     "name": "stdout",
     "output_type": "stream",
     "text": [
      "5\n"
     ]
    }
   ],
   "source": [
    "print(suma(2, 3))"
   ]
  },
  {
   "cell_type": "markdown",
   "id": "a27fc808",
   "metadata": {},
   "source": [
    "#### paradigma orientado a objetos"
   ]
  },
  {
   "cell_type": "code",
   "execution_count": 10,
   "id": "bf5dc9ea",
   "metadata": {},
   "outputs": [],
   "source": [
    "class Persona:\n",
    "    def __init__(self, nombre, edad):\n",
    "        self.nombre = nombre\n",
    "        self.edad = edad\n",
    "\n",
    "    def saludar(self):\n",
    "        print(\"Hola, soy {} y tengo {} años\".format(self.nombre, self.edad))\n",
    "\n",
    "\n"
   ]
  },
  {
   "cell_type": "code",
   "execution_count": 11,
   "id": "5ab71356",
   "metadata": {},
   "outputs": [
    {
     "name": "stdout",
     "output_type": "stream",
     "text": [
      "Hola, soy Juan y tengo 25 años\n"
     ]
    }
   ],
   "source": [
    "p1 = Persona(\"Juan\", 25)\n",
    "p1.saludar()"
   ]
  },
  {
   "cell_type": "markdown",
   "id": "aff63372",
   "metadata": {},
   "source": [
    "## Tipos de variables"
   ]
  },
  {
   "cell_type": "markdown",
   "id": "94384746",
   "metadata": {},
   "source": [
    "    - float\n",
    "    - int\n",
    "    - String\n",
    "    - Listas\n",
    "    - Tuplas\n",
    "    - Diccionario"
   ]
  },
  {
   "cell_type": "markdown",
   "id": "44b36d3d",
   "metadata": {},
   "source": [
    "#### Float o flotentes"
   ]
  },
  {
   "cell_type": "code",
   "execution_count": 12,
   "id": "a3d8e3fe",
   "metadata": {},
   "outputs": [
    {
     "data": {
      "text/plain": [
       "float"
      ]
     },
     "execution_count": 12,
     "metadata": {},
     "output_type": "execute_result"
    }
   ],
   "source": [
    "x=3.999999999999\n",
    "type(x)"
   ]
  },
  {
   "cell_type": "markdown",
   "id": "dfd134fa",
   "metadata": {},
   "source": [
    "#### int o enteros"
   ]
  },
  {
   "cell_type": "code",
   "execution_count": 13,
   "id": "dc4a56df",
   "metadata": {},
   "outputs": [
    {
     "data": {
      "text/plain": [
       "int"
      ]
     },
     "execution_count": 13,
     "metadata": {},
     "output_type": "execute_result"
    }
   ],
   "source": [
    "x=2\n",
    "type(x)"
   ]
  },
  {
   "cell_type": "markdown",
   "id": "ac32a031",
   "metadata": {},
   "source": [
    "#### String"
   ]
  },
  {
   "cell_type": "code",
   "execution_count": 14,
   "id": "0dcbca70",
   "metadata": {},
   "outputs": [
    {
     "data": {
      "text/plain": [
       "str"
      ]
     },
     "execution_count": 14,
     "metadata": {},
     "output_type": "execute_result"
    }
   ],
   "source": [
    "x=\"Hola mundo\"\n",
    "type(x)"
   ]
  },
  {
   "cell_type": "markdown",
   "id": "9f201bf3",
   "metadata": {},
   "source": [
    "#### Lista"
   ]
  },
  {
   "cell_type": "code",
   "execution_count": 21,
   "id": "0cae0dc4",
   "metadata": {},
   "outputs": [
    {
     "data": {
      "text/plain": [
       "list"
      ]
     },
     "execution_count": 21,
     "metadata": {},
     "output_type": "execute_result"
    }
   ],
   "source": [
    "x=[1,2,3,4,4]\n",
    "type(x)"
   ]
  },
  {
   "cell_type": "code",
   "execution_count": 22,
   "id": "7c2465e5",
   "metadata": {},
   "outputs": [
    {
     "data": {
      "text/plain": [
       "[1, 2, 3, 4, 4]"
      ]
     },
     "execution_count": 22,
     "metadata": {},
     "output_type": "execute_result"
    }
   ],
   "source": [
    "x"
   ]
  },
  {
   "cell_type": "code",
   "execution_count": 23,
   "id": "6302016c",
   "metadata": {},
   "outputs": [],
   "source": [
    "x[4]=5"
   ]
  },
  {
   "cell_type": "code",
   "execution_count": 24,
   "id": "9c0df65b",
   "metadata": {},
   "outputs": [
    {
     "data": {
      "text/plain": [
       "[1, 2, 3, 4, 5]"
      ]
     },
     "execution_count": 24,
     "metadata": {},
     "output_type": "execute_result"
    }
   ],
   "source": [
    "x"
   ]
  },
  {
   "cell_type": "code",
   "execution_count": 14,
   "id": "97358af1",
   "metadata": {},
   "outputs": [
    {
     "ename": "IndexError",
     "evalue": "list assignment index out of range",
     "output_type": "error",
     "traceback": [
      "\u001b[0;31m---------------------------------------------------------------------------\u001b[0m",
      "\u001b[0;31mIndexError\u001b[0m                                Traceback (most recent call last)",
      "\u001b[0;32m/tmp/ipykernel_6884/1187090852.py\u001b[0m in \u001b[0;36m<module>\u001b[0;34m\u001b[0m\n\u001b[0;32m----> 1\u001b[0;31m \u001b[0mx\u001b[0m\u001b[0;34m[\u001b[0m\u001b[0;36m5\u001b[0m\u001b[0;34m]\u001b[0m\u001b[0;34m=\u001b[0m\u001b[0;36m6\u001b[0m\u001b[0;34m\u001b[0m\u001b[0;34m\u001b[0m\u001b[0m\n\u001b[0m",
      "\u001b[0;31mIndexError\u001b[0m: list assignment index out of range"
     ]
    }
   ],
   "source": [
    "x[5]=6"
   ]
  },
  {
   "cell_type": "code",
   "execution_count": 15,
   "id": "6f310633",
   "metadata": {},
   "outputs": [],
   "source": [
    "x[4]=5"
   ]
  },
  {
   "cell_type": "code",
   "execution_count": 16,
   "id": "73d6d20f",
   "metadata": {},
   "outputs": [
    {
     "data": {
      "text/plain": [
       "[1, 2, 3, 4, 5]"
      ]
     },
     "execution_count": 16,
     "metadata": {},
     "output_type": "execute_result"
    }
   ],
   "source": [
    "x"
   ]
  },
  {
   "cell_type": "markdown",
   "id": "e5c02d96",
   "metadata": {},
   "source": [
    "#### Tupla"
   ]
  },
  {
   "cell_type": "code",
   "execution_count": 25,
   "id": "7cba4400",
   "metadata": {},
   "outputs": [
    {
     "data": {
      "text/plain": [
       "tuple"
      ]
     },
     "execution_count": 25,
     "metadata": {},
     "output_type": "execute_result"
    }
   ],
   "source": [
    "x=(1,2,3,4,4)\n",
    "type(x)"
   ]
  },
  {
   "cell_type": "code",
   "execution_count": 19,
   "id": "d5831b02",
   "metadata": {},
   "outputs": [
    {
     "data": {
      "text/plain": [
       "1"
      ]
     },
     "execution_count": 19,
     "metadata": {},
     "output_type": "execute_result"
    }
   ],
   "source": [
    "x[0]"
   ]
  },
  {
   "cell_type": "code",
   "execution_count": 27,
   "id": "5f65792c",
   "metadata": {},
   "outputs": [
    {
     "ename": "TypeError",
     "evalue": "'tuple' object does not support item assignment",
     "output_type": "error",
     "traceback": [
      "\u001b[0;31m---------------------------------------------------------------------------\u001b[0m",
      "\u001b[0;31mTypeError\u001b[0m                                 Traceback (most recent call last)",
      "\u001b[0;32m/tmp/ipykernel_3370/2905585129.py\u001b[0m in \u001b[0;36m<module>\u001b[0;34m\u001b[0m\n\u001b[0;32m----> 1\u001b[0;31m \u001b[0mx\u001b[0m\u001b[0;34m[\u001b[0m\u001b[0;36m5\u001b[0m\u001b[0;34m]\u001b[0m\u001b[0;34m=\u001b[0m\u001b[0;36m5\u001b[0m\u001b[0;34m\u001b[0m\u001b[0;34m\u001b[0m\u001b[0m\n\u001b[0m",
      "\u001b[0;31mTypeError\u001b[0m: 'tuple' object does not support item assignment"
     ]
    }
   ],
   "source": [
    "x[5]=5"
   ]
  },
  {
   "cell_type": "code",
   "execution_count": 18,
   "id": "1ae958fa",
   "metadata": {},
   "outputs": [
    {
     "ename": "TypeError",
     "evalue": "'tuple' object does not support item assignment",
     "output_type": "error",
     "traceback": [
      "\u001b[0;31m---------------------------------------------------------------------------\u001b[0m",
      "\u001b[0;31mTypeError\u001b[0m                                 Traceback (most recent call last)",
      "\u001b[0;32m/tmp/ipykernel_6884/1187090852.py\u001b[0m in \u001b[0;36m<module>\u001b[0;34m\u001b[0m\n\u001b[0;32m----> 1\u001b[0;31m \u001b[0mx\u001b[0m\u001b[0;34m[\u001b[0m\u001b[0;36m5\u001b[0m\u001b[0;34m]\u001b[0m\u001b[0;34m=\u001b[0m\u001b[0;36m6\u001b[0m\u001b[0;34m\u001b[0m\u001b[0;34m\u001b[0m\u001b[0m\n\u001b[0m",
      "\u001b[0;31mTypeError\u001b[0m: 'tuple' object does not support item assignment"
     ]
    }
   ],
   "source": [
    "x[5]=6"
   ]
  },
  {
   "cell_type": "code",
   "execution_count": 22,
   "id": "997c8172",
   "metadata": {},
   "outputs": [
    {
     "ename": "TypeError",
     "evalue": "'tuple' object does not support item assignment",
     "output_type": "error",
     "traceback": [
      "\u001b[0;31m---------------------------------------------------------------------------\u001b[0m",
      "\u001b[0;31mTypeError\u001b[0m                                 Traceback (most recent call last)",
      "\u001b[0;32m/tmp/ipykernel_6884/3958005678.py\u001b[0m in \u001b[0;36m<module>\u001b[0;34m\u001b[0m\n\u001b[0;32m----> 1\u001b[0;31m \u001b[0mx\u001b[0m\u001b[0;34m[\u001b[0m\u001b[0;36m4\u001b[0m\u001b[0;34m]\u001b[0m\u001b[0;34m=\u001b[0m\u001b[0;36m5\u001b[0m\u001b[0;34m\u001b[0m\u001b[0;34m\u001b[0m\u001b[0m\n\u001b[0m",
      "\u001b[0;31mTypeError\u001b[0m: 'tuple' object does not support item assignment"
     ]
    }
   ],
   "source": [
    "x[4]=5"
   ]
  },
  {
   "cell_type": "code",
   "execution_count": 23,
   "id": "80d0b832",
   "metadata": {},
   "outputs": [
    {
     "data": {
      "text/plain": [
       "(1, 2, 3, 4, 4)"
      ]
     },
     "execution_count": 23,
     "metadata": {},
     "output_type": "execute_result"
    }
   ],
   "source": [
    "x"
   ]
  },
  {
   "cell_type": "markdown",
   "id": "23d755bf",
   "metadata": {},
   "source": [
    "#### Diccionario"
   ]
  },
  {
   "cell_type": "code",
   "execution_count": 24,
   "id": "742da0ba",
   "metadata": {},
   "outputs": [
    {
     "data": {
      "text/plain": [
       "dict"
      ]
     },
     "execution_count": 24,
     "metadata": {},
     "output_type": "execute_result"
    }
   ],
   "source": [
    "x={\"1\":1,\"2\":2}\n",
    "type(x)"
   ]
  },
  {
   "cell_type": "code",
   "execution_count": 25,
   "id": "e98e37ab",
   "metadata": {},
   "outputs": [
    {
     "data": {
      "text/plain": [
       "{'1': 1, '2': 2}"
      ]
     },
     "execution_count": 25,
     "metadata": {},
     "output_type": "execute_result"
    }
   ],
   "source": [
    "x"
   ]
  },
  {
   "cell_type": "code",
   "execution_count": 26,
   "id": "80a4807d",
   "metadata": {},
   "outputs": [
    {
     "data": {
      "text/plain": [
       "1"
      ]
     },
     "execution_count": 26,
     "metadata": {},
     "output_type": "execute_result"
    }
   ],
   "source": [
    "x[\"1\"]"
   ]
  },
  {
   "cell_type": "code",
   "execution_count": 27,
   "id": "f5b6a37d",
   "metadata": {},
   "outputs": [],
   "source": [
    "x[\"3\"]=3"
   ]
  },
  {
   "cell_type": "code",
   "execution_count": 28,
   "id": "8328581d",
   "metadata": {},
   "outputs": [
    {
     "data": {
      "text/plain": [
       "{'1': 1, '2': 2, '3': 3}"
      ]
     },
     "execution_count": 28,
     "metadata": {},
     "output_type": "execute_result"
    }
   ],
   "source": [
    "x"
   ]
  },
  {
   "cell_type": "code",
   "execution_count": 3,
   "id": "1778b181",
   "metadata": {},
   "outputs": [
    {
     "data": {
      "text/plain": [
       "str"
      ]
     },
     "execution_count": 3,
     "metadata": {},
     "output_type": "execute_result"
    }
   ],
   "source": [
    "type(\"Hola mi nombre es tal\".upper())"
   ]
  },
  {
   "cell_type": "code",
   "execution_count": 29,
   "id": "421142a6",
   "metadata": {},
   "outputs": [],
   "source": [
    "pr=dict()"
   ]
  },
  {
   "cell_type": "code",
   "execution_count": 30,
   "id": "6122f6dc",
   "metadata": {},
   "outputs": [
    {
     "data": {
      "text/plain": [
       "{}"
      ]
     },
     "execution_count": 30,
     "metadata": {},
     "output_type": "execute_result"
    }
   ],
   "source": [
    "pr"
   ]
  },
  {
   "cell_type": "code",
   "execution_count": 31,
   "id": "ca469eb9",
   "metadata": {},
   "outputs": [],
   "source": [
    "pr[\"nombre\"]=\"Carlos\""
   ]
  },
  {
   "cell_type": "code",
   "execution_count": 32,
   "id": "57bafed3",
   "metadata": {},
   "outputs": [
    {
     "data": {
      "text/plain": [
       "{'nombre': 'Carlos'}"
      ]
     },
     "execution_count": 32,
     "metadata": {},
     "output_type": "execute_result"
    }
   ],
   "source": [
    "pr"
   ]
  },
  {
   "cell_type": "code",
   "execution_count": 34,
   "id": "5d032b61",
   "metadata": {},
   "outputs": [],
   "source": [
    "x=np.array([])"
   ]
  },
  {
   "cell_type": "code",
   "execution_count": 35,
   "id": "19a64f57",
   "metadata": {},
   "outputs": [
    {
     "data": {
      "text/plain": [
       "array([], dtype=float64)"
      ]
     },
     "execution_count": 35,
     "metadata": {},
     "output_type": "execute_result"
    }
   ],
   "source": [
    "x"
   ]
  },
  {
   "cell_type": "code",
   "execution_count": 37,
   "id": "c22c8cd7",
   "metadata": {},
   "outputs": [
    {
     "data": {
      "text/plain": [
       "4889468156165151651561651651651651651515161115"
      ]
     },
     "execution_count": 37,
     "metadata": {},
     "output_type": "execute_result"
    }
   ],
   "source": [
    "x"
   ]
  },
  {
   "cell_type": "code",
   "execution_count": null,
   "id": "76b7cb52",
   "metadata": {},
   "outputs": [],
   "source": []
  },
  {
   "cell_type": "code",
   "execution_count": 38,
   "id": "b0019287",
   "metadata": {},
   "outputs": [],
   "source": [
    "x=[]"
   ]
  },
  {
   "cell_type": "code",
   "execution_count": 39,
   "id": "0789e873",
   "metadata": {},
   "outputs": [],
   "source": [
    "x=list()"
   ]
  },
  {
   "cell_type": "code",
   "execution_count": 40,
   "id": "da7154c6",
   "metadata": {},
   "outputs": [],
   "source": [
    "x.append(1)"
   ]
  },
  {
   "cell_type": "code",
   "execution_count": 70,
   "id": "8867e114",
   "metadata": {},
   "outputs": [],
   "source": [
    "x=[1,2,3,4]"
   ]
  },
  {
   "cell_type": "code",
   "execution_count": 72,
   "id": "2a29c8a9",
   "metadata": {},
   "outputs": [],
   "source": [
    "x=[[1,2,3],\n",
    "   [4,5,6],\n",
    "   [7,8,9]]"
   ]
  },
  {
   "cell_type": "code",
   "execution_count": 74,
   "id": "7d9c0084",
   "metadata": {},
   "outputs": [],
   "source": [
    "x=(1,2,3,4)"
   ]
  },
  {
   "cell_type": "code",
   "execution_count": 75,
   "id": "acacc23e",
   "metadata": {},
   "outputs": [],
   "source": [
    "x=list(x)"
   ]
  },
  {
   "cell_type": "code",
   "execution_count": 76,
   "id": "de171ae7",
   "metadata": {},
   "outputs": [
    {
     "data": {
      "text/plain": [
       "[1, 2, 3, 4]"
      ]
     },
     "execution_count": 76,
     "metadata": {},
     "output_type": "execute_result"
    }
   ],
   "source": [
    "x"
   ]
  },
  {
   "cell_type": "code",
   "execution_count": 60,
   "id": "1ceb4123",
   "metadata": {},
   "outputs": [
    {
     "ename": "TypeError",
     "evalue": "'float' object cannot be interpreted as an integer",
     "output_type": "error",
     "traceback": [
      "\u001b[0;31m---------------------------------------------------------------------------\u001b[0m",
      "\u001b[0;31mTypeError\u001b[0m                                 Traceback (most recent call last)",
      "\u001b[0;32m/tmp/ipykernel_3370/2388025164.py\u001b[0m in \u001b[0;36m<module>\u001b[0;34m\u001b[0m\n\u001b[0;32m----> 1\u001b[0;31m \u001b[0;32mfor\u001b[0m \u001b[0mi\u001b[0m \u001b[0;32min\u001b[0m \u001b[0mrange\u001b[0m\u001b[0;34m(\u001b[0m\u001b[0;36m1\u001b[0m\u001b[0;34m,\u001b[0m\u001b[0;36m100\u001b[0m\u001b[0;34m,\u001b[0m\u001b[0;36m0.5\u001b[0m\u001b[0;34m)\u001b[0m\u001b[0;34m:\u001b[0m\u001b[0;34m\u001b[0m\u001b[0;34m\u001b[0m\u001b[0m\n\u001b[0m\u001b[1;32m      2\u001b[0m \u001b[0;34m\u001b[0m\u001b[0m\n\u001b[1;32m      3\u001b[0m         \u001b[0mx\u001b[0m\u001b[0;34m.\u001b[0m\u001b[0mappend\u001b[0m\u001b[0;34m(\u001b[0m\u001b[0mi\u001b[0m\u001b[0;34m)\u001b[0m\u001b[0;34m\u001b[0m\u001b[0;34m\u001b[0m\u001b[0m\n\u001b[1;32m      4\u001b[0m \u001b[0;34m\u001b[0m\u001b[0m\n",
      "\u001b[0;31mTypeError\u001b[0m: 'float' object cannot be interpreted as an integer"
     ]
    }
   ],
   "source": [
    "for i in range(1,100,0.5):\n",
    "\n",
    "        x.append(i)\n",
    "    "
   ]
  },
  {
   "cell_type": "code",
   "execution_count": 47,
   "id": "9eb14fb4",
   "metadata": {},
   "outputs": [],
   "source": [
    "x=[]"
   ]
  },
  {
   "cell_type": "code",
   "execution_count": 50,
   "id": "9f0cb14b",
   "metadata": {},
   "outputs": [
    {
     "data": {
      "text/plain": [
       "array([  1,   2,   3,   4,   5,   6,   7,   8,   9,  10,  11,  12,  13,\n",
       "        14,  15,  16,  17,  18,  19,  20,  21,  22,  23,  24,  25,  26,\n",
       "        27,  28,  29,  30,  31,  32,  33,  34,  35,  36,  37,  38,  39,\n",
       "        40,  41,  42,  43,  44,  45,  46,  47,  48,  49,  50,  51,  52,\n",
       "        53,  54,  55,  56,  57,  58,  59,  60,  61,  62,  63,  64,  65,\n",
       "        66,  67,  68,  69,  70,  71,  72,  73,  74,  75,  76,  77,  78,\n",
       "        79,  80,  81,  82,  83,  84,  85,  86,  87,  88,  89,  90,  91,\n",
       "        92,  93,  94,  95,  96,  97,  98,  99, 100])"
      ]
     },
     "execution_count": 50,
     "metadata": {},
     "output_type": "execute_result"
    }
   ],
   "source": [
    "np.array(range(1,100+1))"
   ]
  },
  {
   "cell_type": "code",
   "execution_count": 48,
   "id": "eeeb7332",
   "metadata": {},
   "outputs": [],
   "source": [
    "x.append(5)"
   ]
  },
  {
   "cell_type": "code",
   "execution_count": 49,
   "id": "2d103358",
   "metadata": {},
   "outputs": [
    {
     "data": {
      "text/plain": [
       "[5]"
      ]
     },
     "execution_count": 49,
     "metadata": {},
     "output_type": "execute_result"
    }
   ],
   "source": [
    "x"
   ]
  },
  {
   "cell_type": "code",
   "execution_count": 67,
   "id": "ef2fbf88",
   "metadata": {},
   "outputs": [],
   "source": [
    "x=np.linspace(1,100,10000)"
   ]
  },
  {
   "cell_type": "code",
   "execution_count": 66,
   "id": "d7130951",
   "metadata": {},
   "outputs": [
    {
     "data": {
      "text/plain": [
       "array([ 1,  5,  9, 13, 17, 21, 25, 29, 33, 37, 41, 45, 49, 53, 57, 61, 65,\n",
       "       69, 73, 77, 81, 85, 89, 93, 97])"
      ]
     },
     "execution_count": 66,
     "metadata": {},
     "output_type": "execute_result"
    }
   ],
   "source": [
    "np.array(range(1,100,4))"
   ]
  },
  {
   "cell_type": "code",
   "execution_count": 78,
   "id": "3e7f5b92",
   "metadata": {},
   "outputs": [],
   "source": [
    "x=np.zeros(100)"
   ]
  },
  {
   "cell_type": "code",
   "execution_count": 79,
   "id": "e37efc4f",
   "metadata": {},
   "outputs": [
    {
     "data": {
      "text/plain": [
       "array([0., 0., 0., 0., 0., 0., 0., 0., 0., 0., 0., 0., 0., 0., 0., 0., 0.,\n",
       "       0., 0., 0., 0., 0., 0., 0., 0., 0., 0., 0., 0., 0., 0., 0., 0., 0.,\n",
       "       0., 0., 0., 0., 0., 0., 0., 0., 0., 0., 0., 0., 0., 0., 0., 0., 0.,\n",
       "       0., 0., 0., 0., 0., 0., 0., 0., 0., 0., 0., 0., 0., 0., 0., 0., 0.,\n",
       "       0., 0., 0., 0., 0., 0., 0., 0., 0., 0., 0., 0., 0., 0., 0., 0., 0.,\n",
       "       0., 0., 0., 0., 0., 0., 0., 0., 0., 0., 0., 0., 0., 0., 0.])"
      ]
     },
     "execution_count": 79,
     "metadata": {},
     "output_type": "execute_result"
    }
   ],
   "source": [
    "x"
   ]
  },
  {
   "cell_type": "code",
   "execution_count": 80,
   "id": "c3c1a62b",
   "metadata": {},
   "outputs": [],
   "source": [
    "x[0]=1"
   ]
  },
  {
   "cell_type": "code",
   "execution_count": null,
   "id": "b431d81f",
   "metadata": {},
   "outputs": [],
   "source": []
  },
  {
   "cell_type": "code",
   "execution_count": 81,
   "id": "ccbd2b8d",
   "metadata": {},
   "outputs": [
    {
     "data": {
      "text/plain": [
       "array([1., 0., 0., 0., 0., 0., 0., 0., 0., 0., 0., 0., 0., 0., 0., 0., 0.,\n",
       "       0., 0., 0., 0., 0., 0., 0., 0., 0., 0., 0., 0., 0., 0., 0., 0., 0.,\n",
       "       0., 0., 0., 0., 0., 0., 0., 0., 0., 0., 0., 0., 0., 0., 0., 0., 0.,\n",
       "       0., 0., 0., 0., 0., 0., 0., 0., 0., 0., 0., 0., 0., 0., 0., 0., 0.,\n",
       "       0., 0., 0., 0., 0., 0., 0., 0., 0., 0., 0., 0., 0., 0., 0., 0., 0.,\n",
       "       0., 0., 0., 0., 0., 0., 0., 0., 0., 0., 0., 0., 0., 0., 0.])"
      ]
     },
     "execution_count": 81,
     "metadata": {},
     "output_type": "execute_result"
    }
   ],
   "source": [
    "x"
   ]
  },
  {
   "cell_type": "code",
   "execution_count": 94,
   "id": "60766a35",
   "metadata": {},
   "outputs": [
    {
     "data": {
      "text/plain": [
       "1"
      ]
     },
     "execution_count": 94,
     "metadata": {},
     "output_type": "execute_result"
    }
   ],
   "source": [
    "7%2"
   ]
  },
  {
   "cell_type": "code",
   "execution_count": 107,
   "id": "d4a3c03c",
   "metadata": {},
   "outputs": [],
   "source": [
    "x=[]"
   ]
  },
  {
   "cell_type": "code",
   "execution_count": 108,
   "id": "cc119194",
   "metadata": {
    "scrolled": false
   },
   "outputs": [
    {
     "name": "stdout",
     "output_type": "stream",
     "text": [
      "[2, 4, 6, 8, 10, 12, 14, 16, 18, 20, 22, 24, 26, 28, 30, 32, 34, 36, 38, 40, 42, 44, 46, 48, 50, 52, 54, 56, 58, 60, 62, 64, 66, 68, 70, 72, 74, 76, 78, 80, 82, 84, 86, 88, 90, 92, 94, 96, 98, 100]\n"
     ]
    }
   ],
   "source": [
    "for i in range(1,101):\n",
    "    if i%2==0:\n",
    "        x.append(i)\n",
    "print(x)"
   ]
  },
  {
   "cell_type": "code",
   "execution_count": 104,
   "id": "66b4379f",
   "metadata": {},
   "outputs": [],
   "source": [
    "x=[ i for i in range(1,101) if  i%2==0]"
   ]
  },
  {
   "cell_type": "code",
   "execution_count": 106,
   "id": "b2818351",
   "metadata": {},
   "outputs": [
    {
     "name": "stdout",
     "output_type": "stream",
     "text": [
      "[2, 4, 6, 8, 10, 12, 14, 16, 18, 20, 22, 24, 26, 28, 30, 32, 34, 36, 38, 40, 42, 44, 46, 48, 50, 52, 54, 56, 58, 60, 62, 64, 66, 68, 70, 72, 74, 76, 78, 80, 82, 84, 86, 88, 90, 92, 94, 96, 98, 100]\n"
     ]
    }
   ],
   "source": [
    "print(x)"
   ]
  },
  {
   "cell_type": "code",
   "execution_count": 117,
   "id": "d27e6330",
   "metadata": {},
   "outputs": [
    {
     "data": {
      "text/plain": [
       "2"
      ]
     },
     "execution_count": 117,
     "metadata": {},
     "output_type": "execute_result"
    }
   ],
   "source": [
    "8%3"
   ]
  },
  {
   "cell_type": "code",
   "execution_count": 119,
   "id": "7d2e160c",
   "metadata": {},
   "outputs": [],
   "source": []
  },
  {
   "cell_type": "code",
   "execution_count": 129,
   "id": "a24fa433",
   "metadata": {},
   "outputs": [],
   "source": [
    "x=dict()\n",
    "s=0\n",
    "for i in range(1,101):\n",
    "\n",
    "    if i%2==0:\n",
    "        x[s]=i\n",
    "        s=s+1"
   ]
  },
  {
   "cell_type": "code",
   "execution_count": 130,
   "id": "3b6b4f5b",
   "metadata": {},
   "outputs": [
    {
     "data": {
      "text/plain": [
       "2"
      ]
     },
     "execution_count": 130,
     "metadata": {},
     "output_type": "execute_result"
    }
   ],
   "source": [
    "x[0]"
   ]
  },
  {
   "cell_type": "code",
   "execution_count": 131,
   "id": "484d120d",
   "metadata": {},
   "outputs": [
    {
     "data": {
      "text/plain": [
       "{0: 2,\n",
       " 1: 4,\n",
       " 2: 6,\n",
       " 3: 8,\n",
       " 4: 10,\n",
       " 5: 12,\n",
       " 6: 14,\n",
       " 7: 16,\n",
       " 8: 18,\n",
       " 9: 20,\n",
       " 10: 22,\n",
       " 11: 24,\n",
       " 12: 26,\n",
       " 13: 28,\n",
       " 14: 30,\n",
       " 15: 32,\n",
       " 16: 34,\n",
       " 17: 36,\n",
       " 18: 38,\n",
       " 19: 40,\n",
       " 20: 42,\n",
       " 21: 44,\n",
       " 22: 46,\n",
       " 23: 48,\n",
       " 24: 50,\n",
       " 25: 52,\n",
       " 26: 54,\n",
       " 27: 56,\n",
       " 28: 58,\n",
       " 29: 60,\n",
       " 30: 62,\n",
       " 31: 64,\n",
       " 32: 66,\n",
       " 33: 68,\n",
       " 34: 70,\n",
       " 35: 72,\n",
       " 36: 74,\n",
       " 37: 76,\n",
       " 38: 78,\n",
       " 39: 80,\n",
       " 40: 82,\n",
       " 41: 84,\n",
       " 42: 86,\n",
       " 43: 88,\n",
       " 44: 90,\n",
       " 45: 92,\n",
       " 46: 94,\n",
       " 47: 96,\n",
       " 48: 98,\n",
       " 49: 100}"
      ]
     },
     "execution_count": 131,
     "metadata": {},
     "output_type": "execute_result"
    }
   ],
   "source": [
    "x"
   ]
  },
  {
   "cell_type": "code",
   "execution_count": 145,
   "id": "22e0ba15",
   "metadata": {},
   "outputs": [],
   "source": [
    "x=\"Mario\""
   ]
  },
  {
   "cell_type": "code",
   "execution_count": 146,
   "id": "9cdea0d7",
   "metadata": {},
   "outputs": [],
   "source": [
    "x=x+\"Montero\""
   ]
  },
  {
   "cell_type": "code",
   "execution_count": 147,
   "id": "7cb0f570",
   "metadata": {},
   "outputs": [
    {
     "data": {
      "text/plain": [
       "'MarioMontero'"
      ]
     },
     "execution_count": 147,
     "metadata": {},
     "output_type": "execute_result"
    }
   ],
   "source": [
    "x"
   ]
  },
  {
   "cell_type": "code",
   "execution_count": 152,
   "id": "7efbc8f4",
   "metadata": {},
   "outputs": [
    {
     "data": {
      "text/plain": [
       "'MrioMontero'"
      ]
     },
     "execution_count": 152,
     "metadata": {},
     "output_type": "execute_result"
    }
   ],
   "source": [
    "x.replace(\"a\",\"\")"
   ]
  },
  {
   "cell_type": "code",
   "execution_count": 153,
   "id": "5f3ecfb5",
   "metadata": {},
   "outputs": [
    {
     "data": {
      "text/plain": [
       "'Mi nombre es Jose y tengo 22 años'"
      ]
     },
     "execution_count": 153,
     "metadata": {},
     "output_type": "execute_result"
    }
   ],
   "source": [
    "\"Mi nombre es {} y tengo {} años\".format(\"Jose\",\"22\")"
   ]
  },
  {
   "cell_type": "code",
   "execution_count": 158,
   "id": "928151f0",
   "metadata": {},
   "outputs": [
    {
     "name": "stdout",
     "output_type": "stream",
     "text": [
      "Object `join` not found.\n"
     ]
    }
   ],
   "source": [
    "\"\"\"Hola, mi nombre es {}.\n",
    "Trabajo en {}\n",
    "y estudio en {}\"\"\".format(\"Mario\", \"K\", \"Universidad de Atlántico\").\n",
    "    "
   ]
  },
  {
   "cell_type": "code",
   "execution_count": null,
   "id": "e91ff105",
   "metadata": {},
   "outputs": [],
   "source": []
  }
 ],
 "metadata": {
  "kernelspec": {
   "display_name": "Python 3 (ipykernel)",
   "language": "python",
   "name": "python3"
  },
  "language_info": {
   "codemirror_mode": {
    "name": "ipython",
    "version": 3
   },
   "file_extension": ".py",
   "mimetype": "text/x-python",
   "name": "python",
   "nbconvert_exporter": "python",
   "pygments_lexer": "ipython3",
   "version": "3.10.6"
  }
 },
 "nbformat": 4,
 "nbformat_minor": 5
}
