{
 "cells": [
  {
   "cell_type": "markdown",
   "id": "c3f07050",
   "metadata": {},
   "source": [
    "# <center> $\\text{CONTENIDO}$ </center>"
   ]
  },
  {
   "cell_type": "markdown",
   "id": "730fcb0a",
   "metadata": {},
   "source": [
    "1. Introducción a la programación en Python: conceptos básicos de programación orientada a objetos, sintaxis, estructuras de control, funciones, manejo de archivos y variables.\n",
    "\n"
   ]
  },
  {
   "cell_type": "markdown",
   "id": "c4cecbbd",
   "metadata": {},
   "source": [
    "2. Manipulación de datos con Pandas: importación y exportación de datos, limpieza y transformación de datos, gráficos y visualización.\n",
    "\n"
   ]
  },
  {
   "cell_type": "markdown",
   "id": "c4f55fc1",
   "metadata": {},
   "source": [
    "3. Desarrollo web con HTML/CSS: estructuración de HTML, estilos con CSS, diseño responsivo, validación de formularios, entre otros.\n",
    "\n"
   ]
  },
  {
   "cell_type": "markdown",
   "id": "ed5b84dc",
   "metadata": {},
   "source": [
    "4. Visualización de datos con Plotly/Dash: gráficos interactivos, visualización de datos en tiempo real, creación de aplicaciones web con Dash.\n",
    "\n"
   ]
  },
  {
   "cell_type": "markdown",
   "id": "dc3bb41d",
   "metadata": {},
   "source": [
    "5. Programación orientada a objetos en Python: clases y objetos, polimorfismo, herencia, encapsulación, entre otros.\n"
   ]
  },
  {
   "cell_type": "markdown",
   "id": "36c76990",
   "metadata": {},
   "source": [
    "\n",
    "6. Aplicaciones web con Flask\n"
   ]
  },
  {
   "cell_type": "markdown",
   "id": "ab3f03b5",
   "metadata": {},
   "source": [
    "\n",
    "7. Interfaces gráficas con PyQt.\n",
    "\n"
   ]
  },
  {
   "cell_type": "markdown",
   "id": "f1e8ae2b",
   "metadata": {},
   "source": [
    "8. Programación de Arduino usando Python.\n",
    "\n"
   ]
  },
  {
   "cell_type": "markdown",
   "id": "bee04ab9",
   "metadata": {},
   "source": [
    "9. Proyecto final."
   ]
  }
 ],
 "metadata": {
  "kernelspec": {
   "display_name": "Python 3 (ipykernel)",
   "language": "python",
   "name": "python3"
  },
  "language_info": {
   "codemirror_mode": {
    "name": "ipython",
    "version": 3
   },
   "file_extension": ".py",
   "mimetype": "text/x-python",
   "name": "python",
   "nbconvert_exporter": "python",
   "pygments_lexer": "ipython3",
   "version": "3.10.6"
  }
 },
 "nbformat": 4,
 "nbformat_minor": 5
}
